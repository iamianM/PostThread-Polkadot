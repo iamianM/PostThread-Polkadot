{
 "cells": [
  {
   "cell_type": "code",
   "execution_count": 1,
   "id": "92f4e5b4",
   "metadata": {
    "scrolled": true
   },
   "outputs": [
    {
     "name": "stdout",
     "output_type": "stream",
     "text": [
      "Collecting substrate-interface\n",
      "  Downloading substrate_interface-1.2.5-py3-none-any.whl (182 kB)\n",
      "\u001b[K     |████████████████████████████████| 182 kB 6.1 MB/s eta 0:00:01\n",
      "\u001b[?25hCollecting eth-keys<1,>=0.2.1\n",
      "  Downloading eth_keys-0.4.0-py3-none-any.whl (21 kB)\n",
      "Collecting py-sr25519-bindings<1,>=0.1.4\n",
      "  Downloading py_sr25519_bindings-0.1.4-cp38-cp38-manylinux_2_5_x86_64.manylinux1_x86_64.whl (1.0 MB)\n",
      "\u001b[K     |████████████████████████████████| 1.0 MB 47.9 MB/s eta 0:00:01\n",
      "\u001b[?25hCollecting py-ed25519-bindings<2,>=1.0\n",
      "  Downloading py_ed25519_bindings-1.0.1-cp38-cp38-manylinux_2_5_x86_64.manylinux1_x86_64.whl (1.0 MB)\n",
      "\u001b[K     |████████████████████████████████| 1.0 MB 58.1 MB/s eta 0:00:01\n",
      "\u001b[?25hCollecting eth-utils<3,>=1.3.0\n",
      "  Downloading eth_utils-2.0.0-py3-none-any.whl (24 kB)\n",
      "Collecting websocket-client<2,>=0.57.0\n",
      "  Downloading websocket_client-1.3.2-py3-none-any.whl (54 kB)\n",
      "\u001b[K     |████████████████████████████████| 54 kB 10.1 MB/s eta 0:00:01\n",
      "\u001b[?25hRequirement already satisfied: certifi>=2019.3.9 in /home/chia/miniconda3/lib/python3.8/site-packages (from substrate-interface) (2020.6.20)\n",
      "Collecting ecdsa<1,>=0.17.0\n",
      "  Downloading ecdsa-0.17.0-py2.py3-none-any.whl (119 kB)\n",
      "\u001b[K     |████████████████████████████████| 119 kB 36.8 MB/s eta 0:00:01\n",
      "\u001b[?25hCollecting pycryptodome<4,>=3.11.0\n",
      "  Downloading pycryptodome-3.14.1-cp35-abi3-manylinux2010_x86_64.whl (2.0 MB)\n",
      "\u001b[K     |████████████████████████████████| 2.0 MB 3.0 MB/s eta 0:00:01\n",
      "\u001b[?25hCollecting scalecodec<2,>=1.0.35\n",
      "  Downloading scalecodec-1.0.35-py3-none-any.whl (75 kB)\n",
      "\u001b[K     |████████████████████████████████| 75 kB 7.5 MB/s  eta 0:00:01\n",
      "\u001b[?25hCollecting PyNaCl<2,>=1.0.1\n",
      "  Downloading PyNaCl-1.5.0-cp36-abi3-manylinux_2_17_x86_64.manylinux2014_x86_64.manylinux_2_24_x86_64.whl (856 kB)\n",
      "\u001b[K     |████████████████████████████████| 856 kB 10.4 MB/s eta 0:00:01\n",
      "\u001b[?25hCollecting py-bip39-bindings<1,>=0.1.9\n",
      "  Downloading py_bip39_bindings-0.1.9-cp38-cp38-manylinux_2_5_x86_64.manylinux1_x86_64.whl (1.2 MB)\n",
      "\u001b[K     |████████████████████████████████| 1.2 MB 10.9 MB/s eta 0:00:01\n",
      "\u001b[?25hCollecting xxhash<3,>=1.3.0\n",
      "  Downloading xxhash-2.0.2-cp38-cp38-manylinux2010_x86_64.whl (243 kB)\n",
      "\u001b[K     |████████████████████████████████| 243 kB 15.2 MB/s eta 0:00:01\n",
      "\u001b[?25hCollecting base58<3,>=1.0.3\n",
      "  Downloading base58-2.1.1-py3-none-any.whl (5.6 kB)\n",
      "Requirement already satisfied: idna<4,>=2.1.0 in /home/chia/miniconda3/lib/python3.8/site-packages (from substrate-interface) (2.10)\n",
      "Requirement already satisfied: requests<3,>=2.21.0 in /home/chia/miniconda3/lib/python3.8/site-packages (from substrate-interface) (2.24.0)\n",
      "Collecting eth-typing<4,>=3.0.0\n",
      "  Downloading eth_typing-3.0.0-py3-none-any.whl (6.2 kB)\n",
      "Collecting cytoolz<1.0.0,>=0.10.1; implementation_name == \"cpython\"\n",
      "  Downloading cytoolz-0.11.2.tar.gz (481 kB)\n",
      "\u001b[K     |████████████████████████████████| 481 kB 16.5 MB/s eta 0:00:01\n",
      "\u001b[?25hCollecting eth-hash<0.4.0,>=0.3.1\n",
      "  Downloading eth_hash-0.3.2-py3-none-any.whl (8.8 kB)\n",
      "Requirement already satisfied: six>=1.9.0 in /home/chia/miniconda3/lib/python3.8/site-packages (from ecdsa<1,>=0.17.0->substrate-interface) (1.15.0)\n",
      "Collecting more-itertools\n",
      "  Downloading more_itertools-8.13.0-py3-none-any.whl (51 kB)\n",
      "\u001b[K     |████████████████████████████████| 51 kB 1.5 MB/s eta 0:00:011\n",
      "\u001b[?25hRequirement already satisfied: cffi>=1.4.1 in /home/chia/miniconda3/lib/python3.8/site-packages (from PyNaCl<2,>=1.0.1->substrate-interface) (1.14.3)\n",
      "Requirement already satisfied: urllib3!=1.25.0,!=1.25.1,<1.26,>=1.21.1 in /home/chia/miniconda3/lib/python3.8/site-packages (from requests<3,>=2.21.0->substrate-interface) (1.25.11)\n",
      "Requirement already satisfied: chardet<4,>=3.0.2 in /home/chia/miniconda3/lib/python3.8/site-packages (from requests<3,>=2.21.0->substrate-interface) (3.0.4)\n",
      "Collecting toolz>=0.8.0\n",
      "  Downloading toolz-0.11.2-py3-none-any.whl (55 kB)\n",
      "\u001b[K     |████████████████████████████████| 55 kB 222 kB/s  eta 0:00:01\n",
      "\u001b[?25hRequirement already satisfied: pycparser in /home/chia/miniconda3/lib/python3.8/site-packages (from cffi>=1.4.1->PyNaCl<2,>=1.0.1->substrate-interface) (2.20)\n",
      "Building wheels for collected packages: cytoolz\n",
      "  Building wheel for cytoolz (setup.py) ... \u001b[?25ldone\n",
      "\u001b[?25h  Created wheel for cytoolz: filename=cytoolz-0.11.2-cp38-cp38-linux_x86_64.whl size=1854965 sha256=83fdeeba70ba841a3173352978726ef0b6ac8e11984cd5d0bc04c20c65065d62\n",
      "  Stored in directory: /home/chia/.cache/pip/wheels/51/64/37/527da1f62030b9c9f746d907edfa6b3f06324ea42197262ef2\n",
      "Successfully built cytoolz\n",
      "Installing collected packages: toolz, cytoolz, eth-typing, eth-hash, eth-utils, eth-keys, py-sr25519-bindings, py-ed25519-bindings, websocket-client, ecdsa, pycryptodome, more-itertools, base58, scalecodec, PyNaCl, py-bip39-bindings, xxhash, substrate-interface\n",
      "Successfully installed PyNaCl-1.5.0 base58-2.1.1 cytoolz-0.11.2 ecdsa-0.17.0 eth-hash-0.3.2 eth-keys-0.4.0 eth-typing-3.0.0 eth-utils-2.0.0 more-itertools-8.13.0 py-bip39-bindings-0.1.9 py-ed25519-bindings-1.0.1 py-sr25519-bindings-0.1.4 pycryptodome-3.14.1 scalecodec-1.0.35 substrate-interface-1.2.5 toolz-0.11.2 websocket-client-1.3.2 xxhash-2.0.2\n"
     ]
    }
   ],
   "source": [
    "!pip install substrate-interface"
   ]
  },
  {
   "cell_type": "code",
   "execution_count": 7,
   "id": "5c549a79",
   "metadata": {},
   "outputs": [],
   "source": [
    "import substrateinterface\n",
    "from substrateinterface import SubstrateInterface, Keypair\n",
    "from substrateinterface.exceptions import SubstrateRequestException\n",
    "\n",
    "substrate = SubstrateInterface(\n",
    "    url=\"ws://127.0.0.1:11946\",\n",
    "    ss58_format=42,\n",
    "    type_registry_preset='kusama'\n",
    ")"
   ]
  },
  {
   "cell_type": "code",
   "execution_count": 8,
   "id": "b87aceb5",
   "metadata": {},
   "outputs": [],
   "source": [
    "# Function to make extrinsic calls\n",
    "def make_call(call_module, call_function, call_params, keypair, wait_for_inclusion = True, wait_for_finalization = False):\n",
    "    call = substrate.compose_call(\n",
    "        call_module=call_module,\n",
    "        call_function=call_function,\n",
    "        call_params=call_params\n",
    "    )\n",
    "\n",
    "    extrinsic = substrate.create_signed_extrinsic(call=call, keypair=keypair)\n",
    "\n",
    "    try:\n",
    "        receipt = substrate.submit_extrinsic(extrinsic, wait_for_inclusion=wait_for_inclusion, wait_for_finalization=wait_for_finalization)\n",
    "        print(\"Extrinsic '{}' sent and included in block '{}'\".format(receipt.extrinsic_hash, receipt.block_hash))\n",
    "\n",
    "    except SubstrateRequestException as e:\n",
    "        print(\"Failed to send: {}\".format(e))\n",
    "    return receipt"
   ]
  },
  {
   "cell_type": "code",
   "execution_count": 9,
   "id": "1f9f2899",
   "metadata": {},
   "outputs": [],
   "source": [
    "alice = Keypair.create_from_uri('//Alice')\n",
    "bob = Keypair.create_from_uri('//Bob')"
   ]
  },
  {
   "cell_type": "code",
   "execution_count": 10,
   "id": "3b1d0f10",
   "metadata": {
    "scrolled": true
   },
   "outputs": [
    {
     "name": "stdout",
     "output_type": "stream",
     "text": [
      "Extrinsic '0xfd83b6e90f249634e0b9638cdbd609c8755016ff34627cf9dd3aea98ba7fa50f' sent and included in block '0x634f393ca31cbe44af3d51d3c83c84626cb8baeb16c7f743edce2ec90d2ddf31'\n",
      "Extrinsic '0xa1b5620eb7f427f0e8c95448a3acdd802eb502a4eae028cbed4b448597efc2ac' sent and included in block '0x4873b33b3182ff4cacda06987a5bc4db1adffb1cbd231c084094042dcec65733'\n"
     ]
    },
    {
     "data": {
      "text/plain": [
       "<substrateinterface.base.ExtrinsicReceipt at 0x7f7be1e47ac0>"
      ]
     },
     "execution_count": 10,
     "metadata": {},
     "output_type": "execute_result"
    }
   ],
   "source": [
    "make_call(\"Msa\", \"create\", {}, alice)\n",
    "make_call(\"Msa\", \"create\", {}, bob)"
   ]
  },
  {
   "cell_type": "markdown",
   "id": "d4519586",
   "metadata": {},
   "source": [
    "# Create MSA for brand new account\n",
    "Use this when user wants control of thier keys and will pay for their own transactions"
   ]
  },
  {
   "cell_type": "code",
   "execution_count": 11,
   "id": "de72ec2b",
   "metadata": {},
   "outputs": [],
   "source": [
    "# Create never before used wallet\n",
    "new_wallet = Keypair.create_from_uri('//ChangeThisNamefgnf', crypto_type=substrateinterface.KeypairType.SR25519)"
   ]
  },
  {
   "cell_type": "code",
   "execution_count": 12,
   "id": "f8a833ef",
   "metadata": {},
   "outputs": [
    {
     "name": "stdout",
     "output_type": "stream",
     "text": [
      "Extrinsic '0x6694a5b75418cc232f00f44b30b96e40fb7bf2917a8e8b3adc4a58af5d2e9523' sent and included in block '0x727a5ef0892cffce809c21f3cf5c6d64430241055c487844906eaddc8e6fc96d'\n"
     ]
    }
   ],
   "source": [
    "# Give wallet some tokens to it can make MSA\n",
    "# Must be at least 1 unit\n",
    "one_unit = 1000000000000\n",
    "receipt = make_call(\"Balances\", \"transfer\", {\"dest\": new_wallet.ss58_address, \"value\": 10 * one_unit}, alice)\n",
    "receipt.error_message"
   ]
  },
  {
   "cell_type": "code",
   "execution_count": 13,
   "id": "b62af09a",
   "metadata": {},
   "outputs": [],
   "source": [
    "def get_msa_id(wallet):\n",
    "    msa_key = substrate.query(\n",
    "        module='Msa',\n",
    "        storage_function='KeyInfoOf',\n",
    "        params=[wallet.ss58_address]\n",
    "    )\n",
    "\n",
    "    if msa_key == None:\n",
    "        make_call(\"Msa\", \"create\", {}, wallet)\n",
    "        msa_key = substrate.query(\n",
    "            module='Msa',\n",
    "            storage_function='KeyInfoOf',\n",
    "            params=[wallet.ss58_address]\n",
    "        )\n",
    "\n",
    "    msa_id = msa_key['msa_id'].decode()\n",
    "    return msa_id"
   ]
  },
  {
   "cell_type": "code",
   "execution_count": 14,
   "id": "4ef7c3ad",
   "metadata": {},
   "outputs": [
    {
     "name": "stdout",
     "output_type": "stream",
     "text": [
      "Extrinsic '0x457c28dd5c99f79a8ec20c604ab706dd248d6f3c64744a313199118f15edce57' sent and included in block '0x6de81b76bdc289189d779f84fd49b4da0c002fa01122bf1e3612899cf6b3d0ab'\n"
     ]
    }
   ],
   "source": [
    "msa_id = get_msa_id(new_wallet)"
   ]
  },
  {
   "cell_type": "markdown",
   "id": "d9b30b6f",
   "metadata": {},
   "source": [
    "## Delegate MSA to a provider"
   ]
  },
  {
   "cell_type": "code",
   "execution_count": 15,
   "id": "8be029a8",
   "metadata": {},
   "outputs": [],
   "source": [
    "payload_raw = { \"authorized_msa_id\": msa_id, \"permission\": 0 }"
   ]
  },
  {
   "cell_type": "code",
   "execution_count": 16,
   "id": "8fd1a0bd",
   "metadata": {},
   "outputs": [],
   "source": [
    "def get_signature(payload, signer):\n",
    "    # encode payload using SCALE\n",
    "    # I found scale_info from \"substrate.metadata_decoder\"\n",
    "    payload_encoded = substrate.encode_scale(type_string='scale_info::8', value=payload['authorized_msa_id']) + \\\n",
    "                            substrate.encode_scale(type_string='scale_info::2', value=payload['permission'])\n",
    "\n",
    "    # Payload must be wrapped in theses Bytes objects\n",
    "    payload_encoded = \"<Bytes>\".encode() + payload_encoded.data + \"</Bytes>\".encode()\n",
    "\n",
    "    # The provider address signs the payload, so in this case alice\n",
    "    return signer.sign(payload_encoded)"
   ]
  },
  {
   "cell_type": "code",
   "execution_count": 17,
   "id": "982ac3ca",
   "metadata": {},
   "outputs": [],
   "source": [
    "signature = get_signature(payload_raw, alice)"
   ]
  },
  {
   "cell_type": "code",
   "execution_count": 18,
   "id": "81571b05",
   "metadata": {},
   "outputs": [
    {
     "name": "stdout",
     "output_type": "stream",
     "text": [
      "Extrinsic '0x186476870d51e6a7a1a407e208ceca6b3d698b9ee55f27edac13bf0628bd90fb' sent and included in block '0x2071c6d2e043a54684d05c4a459e84c2f00c695186e7c79c4d87377f0540c642'\n",
      "None\n"
     ]
    }
   ],
   "source": [
    "# parameters for call function\n",
    "call_params = {\n",
    "    \"provider_key\": alice.ss58_address,\n",
    "    \"proof\": {\"Sr25519\": \"0x\" + signature.hex()},\n",
    "    \"add_provider_payload\": payload_raw\n",
    "}\n",
    "\n",
    "receipt = make_call(\"Msa\", \"add_provider_to_msa\", call_params, new_wallet)\n",
    "print(receipt.error_message)"
   ]
  },
  {
   "cell_type": "markdown",
   "id": "92594f7d",
   "metadata": {},
   "source": [
    "# Following code is run instead of above if user doesn't want control of keys and allows provider to pay for transactions"
   ]
  },
  {
   "cell_type": "code",
   "execution_count": 19,
   "id": "c1f6ee00",
   "metadata": {},
   "outputs": [],
   "source": [
    "# Create never before used wallet\n",
    "new_wallet = Keypair.create_from_uri('//sdvsbsdfghdfdvsvs', crypto_type=substrateinterface.KeypairType.SR25519)"
   ]
  },
  {
   "cell_type": "code",
   "execution_count": 20,
   "id": "83f36894",
   "metadata": {},
   "outputs": [],
   "source": [
    "# get provider msa id, so alice in this case\n",
    "provider_msa_id = get_msa_id(alice)"
   ]
  },
  {
   "cell_type": "code",
   "execution_count": 21,
   "id": "a50e6bfc",
   "metadata": {},
   "outputs": [],
   "source": [
    "payload_raw = { \"authorized_msa_id\": provider_msa_id, \"permission\": 0 }\n",
    "\n",
    "# This time new_wallet signs payload and therefore doesn't need to pay any gas\n",
    "signature = get_signature(payload_raw, new_wallet)"
   ]
  },
  {
   "cell_type": "code",
   "execution_count": 22,
   "id": "dcf58ffc",
   "metadata": {},
   "outputs": [
    {
     "name": "stdout",
     "output_type": "stream",
     "text": [
      "Extrinsic '0x6117563e8b1abd4a973da40b9f8be2a38cc6c1d7b1681504e98b9e52215cbf7a' sent and included in block '0x3938843f11f07e499facefdb3aa65ec11f63f1bc6e1ee7db3589337e50240e53'\n",
      "None\n"
     ]
    }
   ],
   "source": [
    "call_params = {\n",
    "    \"delegator_key\": new_wallet.ss58_address,\n",
    "    \"proof\": {\"Sr25519\": \"0x\" + signature.hex()},\n",
    "    \"add_provider_payload\": payload_raw\n",
    "}\n",
    "\n",
    "# provider signs this\n",
    "receipt = make_call(\"Msa\", \"create_sponsored_account_with_delegation\", call_params, alice)\n",
    "print(receipt.error_message)"
   ]
  },
  {
   "cell_type": "code",
   "execution_count": 26,
   "id": "546d5119",
   "metadata": {},
   "outputs": [],
   "source": [
    "wallets_msa_id = get_msa_id(new_wallet)"
   ]
  },
  {
   "cell_type": "markdown",
   "id": "333383dd",
   "metadata": {},
   "source": [
    "# Create Schema and add Messages"
   ]
  },
  {
   "cell_type": "code",
   "execution_count": 23,
   "id": "4c6cb89c",
   "metadata": {
    "scrolled": true
   },
   "outputs": [
    {
     "name": "stdout",
     "output_type": "stream",
     "text": [
      "Extrinsic '0x4d4666981bf5ec922b194963282ef83205f899e3dc003ecf5765411d61271465' sent and included in block '0x2c121167200fd25c2e95126fb2f068f76fc96734306babc62a1caaba2a2615c8'\n",
      "1\n"
     ]
    }
   ],
   "source": [
    "# define schema and then check if it exists already, if not, then mint it\n",
    "# We will probably turn schema check into api call to save time\n",
    "\n",
    "schema = \"subreddit,author,title,selftext,url,is_nsfw,dsvs\"\n",
    "\n",
    "schema_count = substrate.query(\n",
    "    module='Schemas',\n",
    "    storage_function='SchemaCount',\n",
    "    params=[]\n",
    ").value\n",
    "\n",
    "schemaId = -1\n",
    "for i in range(1, schema_count+1):\n",
    "    schemaTemp = substrate.query(\n",
    "        module='Schemas',\n",
    "        storage_function='Schemas',\n",
    "        params=[i]\n",
    "    )\n",
    "    if schemaTemp == schema:\n",
    "        schemaId = i\n",
    "        print(schemaTemp.value)\n",
    "        break\n",
    "    \n",
    "if schemaId == -1:\n",
    "    receipt = make_call(\"Schemas\", \"register_schema\", {\"schema\": schema}, alice)\n",
    "    for event in receipt.triggered_events:\n",
    "        event = event.decode()\n",
    "        if event['event']['event_id'] == 'SchemaRegistered':\n",
    "            schemaId = event['event']['attributes'][1]\n",
    "\n",
    "print(schemaId)"
   ]
  },
  {
   "cell_type": "code",
   "execution_count": 24,
   "id": "a807e618",
   "metadata": {
    "scrolled": true
   },
   "outputs": [
    {
     "data": {
      "text/plain": [
       "<scale_info::5(value={'free': 0, 'reserved': 0, 'misc_frozen': 0, 'fee_frozen': 0})>"
      ]
     },
     "execution_count": 24,
     "metadata": {},
     "output_type": "execute_result"
    }
   ],
   "source": [
    "substrate.query(\n",
    "    module='Balances',\n",
    "    storage_function='Account',\n",
    "    params=[new_wallet.ss58_address]\n",
    ")"
   ]
  },
  {
   "cell_type": "code",
   "execution_count": 32,
   "id": "7c783db1",
   "metadata": {
    "scrolled": true
   },
   "outputs": [
    {
     "name": "stdout",
     "output_type": "stream",
     "text": [
      "Extrinsic '0x112d4da90949583f9abddc409b510e4f3f83879624fcdad815c60067fc239e2e' sent and included in block '0x3e725c4ddca65027c3625d4cd76963cc3789245c56bac8c6095ffbba19a6a813'\n"
     ]
    },
    {
     "data": {
      "text/plain": [
       "4"
      ]
     },
     "execution_count": 32,
     "metadata": {},
     "output_type": "execute_result"
    }
   ],
   "source": [
    "message = \"AskReddit,LazarShockX,What are some good ice breaker questions?,,https://www.reddit.com/r/AskReddit/comments/v5ihpk/what_are_some_good_ice_breaker_questions/,False\"\n",
    "\n",
    "call_params = {\n",
    "    \"on_behalf_of\": wallets_msa_id,\n",
    "    \"schema_id\": schemaId,\n",
    "    \"message\": message\n",
    "}\n",
    "receipt = make_call(\"Messages\", \"add\", call_params, alice, wait_for_inclusion=True)\n",
    "wallets_msa_id\n",
    "\n",
    "# result = substrate.subscribe_block_headers(subscription_handler)"
   ]
  },
  {
   "cell_type": "code",
   "execution_count": 28,
   "id": "587b0a51",
   "metadata": {
    "scrolled": true
   },
   "outputs": [
    {
     "data": {
      "text/plain": [
       "[<scale_info::16(value={'phase': 'ApplyExtrinsic', 'extrinsic_idx': 2, 'event': {'event_index': '0a08', 'module_id': 'Balances', 'event_id': 'Withdraw', 'attributes': ('5GrwvaEF5zXb26Fz9rcQpDWS57CtERHpNehXCPcNoHGKutQY', 2824543777)}, 'event_index': 10, 'module_id': 'Balances', 'event_id': 'Withdraw', 'attributes': ('5GrwvaEF5zXb26Fz9rcQpDWS57CtERHpNehXCPcNoHGKutQY', 2824543777), 'topics': []})>,\n",
       " <scale_info::16(value={'phase': 'ApplyExtrinsic', 'extrinsic_idx': 2, 'event': {'event_index': '0a07', 'module_id': 'Balances', 'event_id': 'Deposit', 'attributes': ('5GrwvaEF5zXb26Fz9rcQpDWS57CtERHpNehXCPcNoHGKutQY', 2545158)}, 'event_index': 10, 'module_id': 'Balances', 'event_id': 'Deposit', 'attributes': ('5GrwvaEF5zXb26Fz9rcQpDWS57CtERHpNehXCPcNoHGKutQY', 2545158), 'topics': []})>,\n",
       " <scale_info::16(value={'phase': 'ApplyExtrinsic', 'extrinsic_idx': 2, 'event': {'event_index': '0000', 'module_id': 'System', 'event_id': 'ExtrinsicSuccess', 'attributes': {'weight': 125163000, 'class': 'Normal', 'pays_fee': 'Yes'}}, 'event_index': 0, 'module_id': 'System', 'event_id': 'ExtrinsicSuccess', 'attributes': {'weight': 125163000, 'class': 'Normal', 'pays_fee': 'Yes'}, 'topics': []})>]"
      ]
     },
     "execution_count": 28,
     "metadata": {},
     "output_type": "execute_result"
    }
   ],
   "source": [
    "receipt.triggered_events"
   ]
  },
  {
   "cell_type": "markdown",
   "id": "0bcccacd",
   "metadata": {},
   "source": [
    "# Query data\n",
    "The following use substrate's rpc_request function to call rpc methods that are implemented for the pallets\n",
    "This doesn't seem to be implemented by the polkadot or substrate frontends so some code might need to be changed"
   ]
  },
  {
   "cell_type": "code",
   "execution_count": null,
   "id": "6c098e9d",
   "metadata": {
    "scrolled": true
   },
   "outputs": [],
   "source": [
    "params = [\n",
    "    schemaId,\n",
    "    {\n",
    "        \"page_size\": 10000,\n",
    "        \"from_block\": 0,\n",
    "        \"to_block\": 10000,\n",
    "        \"from_index\": 1,\n",
    "    }\n",
    "]\n",
    "\n",
    "data = substrate.rpc_request(\n",
    "    method='messages_getBySchema',\n",
    "    params=params,\n",
    ")\n",
    "data"
   ]
  },
  {
   "cell_type": "code",
   "execution_count": 357,
   "id": "ead313b9",
   "metadata": {},
   "outputs": [
    {
     "data": {
      "text/plain": [
       "'AskReddit,LazarShockX,What are some good ice breaker questions?,,https://www.reddit.com/r/AskReddit/comments/v5ihpk/what_are_some_good_ice_breaker_questions/,False'"
      ]
     },
     "execution_count": 357,
     "metadata": {},
     "output_type": "execute_result"
    }
   ],
   "source": [
    "# data can be converted back to original string\n",
    "bytes.fromhex(data['result']['content'][0]['data'][2:]).decode()"
   ]
  },
  {
   "cell_type": "code",
   "execution_count": null,
   "id": "131a1b5c",
   "metadata": {},
   "outputs": [],
   "source": []
  },
  {
   "cell_type": "code",
   "execution_count": 327,
   "id": "f4b14115",
   "metadata": {},
   "outputs": [
    {
     "data": {
      "text/plain": [
       "3"
      ]
     },
     "execution_count": 327,
     "metadata": {},
     "output_type": "execute_result"
    }
   ],
   "source": [
    "provider_msa_id"
   ]
  },
  {
   "cell_type": "code",
   "execution_count": 325,
   "id": "d3bae5e4",
   "metadata": {},
   "outputs": [
    {
     "data": {
      "text/plain": [
       "'5GrwvaEF5zXb26Fz9rcQpDWS57CtERHpNehXCPcNoHGKutQY'"
      ]
     },
     "execution_count": 325,
     "metadata": {},
     "output_type": "execute_result"
    }
   ],
   "source": [
    "alice.ss58_address"
   ]
  },
  {
   "cell_type": "code",
   "execution_count": 324,
   "id": "6041fbae",
   "metadata": {},
   "outputs": [
    {
     "data": {
      "text/plain": [
       "{'jsonrpc': '2.0',\n",
       " 'result': [{'expired': 0,\n",
       "   'key': '5GrwvaEF5zXb26Fz9rcQpDWS57CtERHpNehXCPcNoHGKutQY',\n",
       "   'msa_id': 3,\n",
       "   'nonce': 0}],\n",
       " 'id': 824}"
      ]
     },
     "execution_count": 324,
     "metadata": {},
     "output_type": "execute_result"
    }
   ],
   "source": [
    "params = [3]\n",
    "\n",
    "substrate.rpc_request(\n",
    "    method='msa_getMsaKeys',\n",
    "    params=params,\n",
    ")"
   ]
  },
  {
   "cell_type": "code",
   "execution_count": 322,
   "id": "56b448b9",
   "metadata": {},
   "outputs": [
    {
     "data": {
      "text/plain": [
       "{'jsonrpc': '2.0', 'result': 3, 'id': 822}"
      ]
     },
     "execution_count": 322,
     "metadata": {},
     "output_type": "execute_result"
    }
   ],
   "source": [
    "params = [alice.ss58_address]\n",
    "\n",
    "substrate.rpc_request(\n",
    "    method='msa_getMsaId',\n",
    "    params=params,\n",
    ")"
   ]
  },
  {
   "cell_type": "code",
   "execution_count": 330,
   "id": "d8b8e88f",
   "metadata": {},
   "outputs": [
    {
     "data": {
      "text/plain": [
       "{'jsonrpc': '2.0',\n",
       " 'result': {'0': False,\n",
       "  '1': False,\n",
       "  '10': False,\n",
       "  '11': True,\n",
       "  '2': True,\n",
       "  '3': False,\n",
       "  '4': False,\n",
       "  '5': False,\n",
       "  '6': True,\n",
       "  '7': True,\n",
       "  '8': True,\n",
       "  '9': False},\n",
       " 'id': 830}"
      ]
     },
     "execution_count": 330,
     "metadata": {},
     "output_type": "execute_result"
    }
   ],
   "source": [
    "params = [list(range(12)), 3]\n",
    "\n",
    "substrate.rpc_request(\n",
    "    method='msa_checkDelegations',\n",
    "    params=params,\n",
    ")"
   ]
  },
  {
   "cell_type": "code",
   "execution_count": 332,
   "id": "12a2681e",
   "metadata": {},
   "outputs": [
    {
     "data": {
      "text/plain": [
       "{'jsonrpc': '2.0',\n",
       " 'result': {'data': 'subreddit,author,title,selftext,url,is_nsfw,dsvs',\n",
       "  'schema_id': 2},\n",
       " 'id': 831}"
      ]
     },
     "execution_count": 332,
     "metadata": {},
     "output_type": "execute_result"
    }
   ],
   "source": [
    "params = [2]\n",
    "\n",
    "substrate.rpc_request(\n",
    "    method='schemas_getBySchemaId',\n",
    "    params=params,\n",
    ")"
   ]
  },
  {
   "cell_type": "code",
   "execution_count": 338,
   "id": "0822e96d",
   "metadata": {
    "scrolled": true
   },
   "outputs": [],
   "source": [
    "# params = [_,'subreddit,author,title,selftext,url,is_nsfw,dsvs'.encode().hex()]\n",
    "\n",
    "# substrate.rpc_request(\n",
    "#     method='schemas_checkSchemaValidity',\n",
    "#     params=params,\n",
    "# )"
   ]
  },
  {
   "cell_type": "code",
   "execution_count": null,
   "id": "3e3a48ff",
   "metadata": {},
   "outputs": [],
   "source": []
  },
  {
   "cell_type": "code",
   "execution_count": null,
   "id": "f4f17b20",
   "metadata": {},
   "outputs": [],
   "source": []
  },
  {
   "cell_type": "code",
   "execution_count": null,
   "id": "3ecb62a4",
   "metadata": {},
   "outputs": [],
   "source": []
  },
  {
   "cell_type": "code",
   "execution_count": null,
   "id": "e5c10fa0",
   "metadata": {},
   "outputs": [],
   "source": []
  },
  {
   "cell_type": "markdown",
   "id": "40051904",
   "metadata": {},
   "source": [
    "# Below is test code"
   ]
  },
  {
   "cell_type": "code",
   "execution_count": 215,
   "id": "e6771d6f",
   "metadata": {
    "scrolled": true
   },
   "outputs": [],
   "source": [
    "def subscription_handler(obj, update_nr, subscription_id):\n",
    "\n",
    "    print(f\"New block #{obj['header']['number']} produced b\")\n",
    "    print(obj)\n",
    "\n",
    "    if update_nr > 10:\n",
    "        return {'message': 'Subscription will cancel when a value is returned', 'updates_processed': update_nr}\n",
    "\n",
    "\n",
    "# result = substrate.subscribe_block_headers?"
   ]
  },
  {
   "cell_type": "code",
   "execution_count": 281,
   "id": "964f5951",
   "metadata": {
    "scrolled": true
   },
   "outputs": [],
   "source": [
    "t = substrate.get_block(substrate.get_block_hash(2662))"
   ]
  },
  {
   "cell_type": "code",
   "execution_count": 291,
   "id": "05445ec0",
   "metadata": {},
   "outputs": [],
   "source": [
    "t = substrate.get_runtime_events(substrate.get_block_hash(2662))"
   ]
  },
  {
   "cell_type": "code",
   "execution_count": 292,
   "id": "1a1a130a",
   "metadata": {},
   "outputs": [
    {
     "data": {
      "text/plain": [
       "{'phase': 'Initialization',\n",
       " 'extrinsic_idx': None,\n",
       " 'event': {'event_index': '2300',\n",
       "  'module_id': 'Messages',\n",
       "  'event_id': 'MessagesStored',\n",
       "  'attributes': (2, 2661, 4)},\n",
       " 'event_index': 35,\n",
       " 'module_id': 'Messages',\n",
       " 'event_id': 'MessagesStored',\n",
       " 'attributes': (2, 2661, 4),\n",
       " 'topics': []}"
      ]
     },
     "execution_count": 292,
     "metadata": {},
     "output_type": "execute_result"
    }
   ],
   "source": [
    "t['result'][0]"
   ]
  },
  {
   "cell_type": "code",
   "execution_count": 293,
   "id": "31a54b4a",
   "metadata": {},
   "outputs": [
    {
     "data": {
      "text/plain": [
       "[{'phase': 'Initialization',\n",
       "  'extrinsic_idx': None,\n",
       "  'event': {'event_index': '2300',\n",
       "   'module_id': 'Messages',\n",
       "   'event_id': 'MessagesStored',\n",
       "   'attributes': (2, 2661, 4)},\n",
       "  'event_index': 35,\n",
       "  'module_id': 'Messages',\n",
       "  'event_id': 'MessagesStored',\n",
       "  'attributes': (2, 2661, 4),\n",
       "  'topics': []},\n",
       " {'phase': 'ApplyExtrinsic',\n",
       "  'extrinsic_idx': 0,\n",
       "  'event': {'event_index': '0000',\n",
       "   'module_id': 'System',\n",
       "   'event_id': 'ExtrinsicSuccess',\n",
       "   'attributes': {'weight': 0, 'class': 'Mandatory', 'pays_fee': 'Yes'}},\n",
       "  'event_index': 0,\n",
       "  'module_id': 'System',\n",
       "  'event_id': 'ExtrinsicSuccess',\n",
       "  'attributes': {'weight': 0, 'class': 'Mandatory', 'pays_fee': 'Yes'},\n",
       "  'topics': []},\n",
       " {'phase': 'ApplyExtrinsic',\n",
       "  'extrinsic_idx': 1,\n",
       "  'event': {'event_index': '0000',\n",
       "   'module_id': 'System',\n",
       "   'event_id': 'ExtrinsicSuccess',\n",
       "   'attributes': {'weight': 155247000,\n",
       "    'class': 'Mandatory',\n",
       "    'pays_fee': 'Yes'}},\n",
       "  'event_index': 0,\n",
       "  'module_id': 'System',\n",
       "  'event_id': 'ExtrinsicSuccess',\n",
       "  'attributes': {'weight': 155247000, 'class': 'Mandatory', 'pays_fee': 'Yes'},\n",
       "  'topics': []}]"
      ]
     },
     "execution_count": 293,
     "metadata": {},
     "output_type": "execute_result"
    }
   ],
   "source": [
    "t['result']"
   ]
  },
  {
   "cell_type": "code",
   "execution_count": 267,
   "id": "e765c31a",
   "metadata": {},
   "outputs": [
    {
     "data": {
      "text/plain": [
       "'0x0dcab630b48836b3eef826e03d2e62cc29ed8b719abb25a25a28d4398a234be3'"
      ]
     },
     "execution_count": 267,
     "metadata": {},
     "output_type": "execute_result"
    }
   ],
   "source": [
    "i = 0\n",
    "block_hash = substrate.get_block_hash(i)\n",
    "while (substrate.block_hash != block_hash):\n",
    "    for event in substrate.get_runtime_events(block_hash)['results']:\n",
    "        if event['event_id'] == 'MessagesStored':\n",
    "            \n",
    "    block_hash = substrate.get_block_hash(i)"
   ]
  },
  {
   "cell_type": "code",
   "execution_count": null,
   "id": "1f586ec1",
   "metadata": {},
   "outputs": [],
   "source": []
  },
  {
   "cell_type": "code",
   "execution_count": 113,
   "id": "6feb4450",
   "metadata": {},
   "outputs": [
    {
     "ename": "ValueError",
     "evalue": "Given storage function is not a map",
     "output_type": "error",
     "traceback": [
      "\u001b[0;31m---------------------------------------------------------------------------\u001b[0m",
      "\u001b[0;31mValueError\u001b[0m                                Traceback (most recent call last)",
      "\u001b[0;32m<ipython-input-113-03f111604d3d>\u001b[0m in \u001b[0;36m<module>\u001b[0;34m\u001b[0m\n\u001b[0;32m----> 1\u001b[0;31m \u001b[0msubstrate\u001b[0m\u001b[0;34m.\u001b[0m\u001b[0mquery_map\u001b[0m\u001b[0;34m(\u001b[0m\u001b[0;34m'System'\u001b[0m\u001b[0;34m,\u001b[0m \u001b[0;34m'Events'\u001b[0m\u001b[0;34m,\u001b[0m \u001b[0mpage_size\u001b[0m\u001b[0;34m=\u001b[0m\u001b[0;36m200\u001b[0m\u001b[0;34m,\u001b[0m \u001b[0mmax_results\u001b[0m\u001b[0;34m=\u001b[0m\u001b[0;36m400\u001b[0m\u001b[0;34m)\u001b[0m\u001b[0;34m\u001b[0m\u001b[0;34m\u001b[0m\u001b[0m\n\u001b[0m",
      "\u001b[0;32m~/.local/lib/python3.6/site-packages/substrateinterface/base.py\u001b[0m in \u001b[0;36mquery_map\u001b[0;34m(self, module, storage_function, params, block_hash, max_results, start_key, page_size, ignore_decoding_errors)\u001b[0m\n\u001b[1;32m   1218\u001b[0m         \u001b[0;31m# Check MapType condititions\u001b[0m\u001b[0;34m\u001b[0m\u001b[0;34m\u001b[0m\u001b[0;34m\u001b[0m\u001b[0m\n\u001b[1;32m   1219\u001b[0m         \u001b[0;32mif\u001b[0m \u001b[0mlen\u001b[0m\u001b[0;34m(\u001b[0m\u001b[0mparam_types\u001b[0m\u001b[0;34m)\u001b[0m \u001b[0;34m==\u001b[0m \u001b[0;36m0\u001b[0m\u001b[0;34m:\u001b[0m\u001b[0;34m\u001b[0m\u001b[0;34m\u001b[0m\u001b[0m\n\u001b[0;32m-> 1220\u001b[0;31m             \u001b[0;32mraise\u001b[0m \u001b[0mValueError\u001b[0m\u001b[0;34m(\u001b[0m\u001b[0;34m'Given storage function is not a map'\u001b[0m\u001b[0;34m)\u001b[0m\u001b[0;34m\u001b[0m\u001b[0;34m\u001b[0m\u001b[0m\n\u001b[0m\u001b[1;32m   1221\u001b[0m \u001b[0;34m\u001b[0m\u001b[0m\n\u001b[1;32m   1222\u001b[0m         \u001b[0;32mif\u001b[0m \u001b[0mlen\u001b[0m\u001b[0;34m(\u001b[0m\u001b[0mparams\u001b[0m\u001b[0;34m)\u001b[0m \u001b[0;34m!=\u001b[0m \u001b[0mlen\u001b[0m\u001b[0;34m(\u001b[0m\u001b[0mparam_types\u001b[0m\u001b[0;34m)\u001b[0m \u001b[0;34m-\u001b[0m \u001b[0;36m1\u001b[0m\u001b[0;34m:\u001b[0m\u001b[0;34m\u001b[0m\u001b[0;34m\u001b[0m\u001b[0m\n",
      "\u001b[0;31mValueError\u001b[0m: Given storage function is not a map"
     ]
    }
   ],
   "source": [
    "substrate.query_map('System', 'Events', page_size=200, max_results=400)"
   ]
  },
  {
   "cell_type": "code",
   "execution_count": null,
   "id": "3b8caad2",
   "metadata": {},
   "outputs": [],
   "source": [
    "substrate.query(\n",
    "    module='System',\n",
    "    storage_function='Events',\n",
    "    params=[],\n",
    "    block_hash=substrate.get_block_hash(2)\n",
    ")"
   ]
  },
  {
   "cell_type": "code",
   "execution_count": 33,
   "id": "9453a7bb",
   "metadata": {
    "scrolled": true
   },
   "outputs": [
    {
     "data": {
      "text/plain": [
       "{'extrinsics': [<GenericExtrinsic(value={'extrinsic_hash': None, 'extrinsic_length': 2560, 'call': {'call_index': '0x0100', 'call_function': 'set_validation_data', 'call_module': 'ParachainSystem', 'call_args': [{'name': 'data', 'type': 'ParachainInherentData', 'value': {'validation_data': {'parent_head': '0x663b3edc974b0210f161b9fb5492f3cdaef3c9dac650218e574bc9bb43be02adf90f489bfe3ff1d03edc8fab3c5f7759003b27d77ef463e4d775baff7be04612b0ff5c0eb4aa70a802f08012174e84113eceac3d4526707e12325253cd31a1c0014d080661757261203c2538080000000005617572610101685eba937ff8390c02ab8a3ec30682c1f8068b7d44887cf436bfb844b0e46b60f5585870c7db2f841926855287cae272d17706ce8eac9dc94207659710833480', 'relay_parent_number': 4281, 'relay_parent_storage_root': '0xd06b3a3da61d34c2b7b26a336a62ae48f838bd14bbffc761f0c70526aadacfee', 'max_pov_size': 5242880}, 'relay_chain_state': {'trie_nodes': ['0x5f04b49d95320d9021994c850f25b8e3851d03000030000080000008000000000010000000100005000000050000000200000002000000000050000000100000e8764817000000040000000400000000000000000000000000000000000000000000000000000000000000000000000800000000200000040000000400000000001000b0040000000000000000000014000000040000000400000000000000010100000000060000006400000002000000c8000000020000001900000000000000020000000200000000c817a804000000000200000005000000', '0x8001108032345c1e58537a8b79fc1da83884c17b2964c12dc8712b477ff8d703b06f0eb580114a7bc19738090504cd50c321014cd7acf21a0e742e68e76584b9f5e63850af', '0x8004648086a9239b72237f5bf119e2a880c32f5866460632700509cb874c60f67fe815ea80f6f6801e4b41e2e6d8ec194dba122bfb9eb33feb2545ef5144cea79551f7cc5280795d84727bedfb3190484d648b0822d208ea56cc0e3d96989ac5ffb5fd053d69805eb1fbf887aebba3ac31b19a22374c2c02b7e8fc0fea1ff3bb343c9658e5c6d2', '0x800814809f3ada68c357b5e0a3ebb39ef181acfa9943af4725c244330a4b2c60837612e880c8bb00628e12be293014161dcd7f8eedd68ec2987ea576b59907085ad76ddac080517736f059379ae47402cf9b5d9306d732b3a57362f23690da174c9ace2d1684', '0x801017806ad8bda250a43737b26933c1b7bebe6f4fe689b2888ff5ab4833d7394853350f8038f5c136db5bdb74d6a62722e6ea23af4fe820eb7fe28dee3a5f76d637dd3376803419c1ea3c5c7873325866f82a3d4bd7d3f222733227fcf3af1423fed4781c998065a1214a991ac85d93f38385d6f52af7b4ddcf56e589fcb92c8d9e8f27291c92807cde591e795e3603dcdcb7b2a32958733fd0cfcdb2a746b9bbb6f2888c079f98', '0x80210280172c0734f3f3f5811dbf30f30699ad42113aa2a8c08b517d1b8b7f6b2017be0d801a2ff24096295cfccf1adda80b8dfffe380b9f3b54d7a3cdb67864a4655e62968022a699b2cc90a6654c84163d2a498506b192afe7cd9777227e5288e8ff069c0f', '0x804001801b70e624a01121aa1aa386f14a355a9567e9ec145cbdecfe1ce5a3fef53abb6c807f67bb40ce9b93cb702f4e492c4de26a3dec02548ef95e11f316e7ffdb1cca39', '0x80fffe80ffa654bfc1584564a6f4dbdcbeffdd70115bee206489a363e8d0e8621a12e4de801b566c538ad14d09d6ebe6478bbd6ae8b836ea147820faed4e5835203b5de998808beda26403ef71b820d8afab5ea654c6e114fec681e506d9b139f8c55668eee0804127aff1d6c9192e7136e2b0b156ce9c256d877cc282e8e9cf332d4be23196ca808728f3514ef9ac54ba3f4e6c74a448c0009b13c5718991c8cf1b433d3f2ab87a80215181864dded0c958b98e242939aa7ce0f707c30999f33ab26337325bd58fda80a8050c9de752959cf68ccf5a83e44a68fa71c0ee31dcfe9495271f2b909f7a498051aa3b2e1aee3bc08a579f37d2573e0fd7b5d190acee0e778fe020c230b9fa2c806fc93770fa6eb599ed29132205201342029f038f776b73a9a4d8d903184dcbe580d493b130529c30860ad66566fd37236f53bb80f444b46c763601ec929b54c29780482829a1da48c896131d504b3eb083a8367ea1d812f6304e1a1dc354c98bf72580f42bcee58e7037115c55e7a4a06291ff8bf3b91628220936e37f61a836cf79b4804d35e7c5fa1ba32bd1389c3f4daa77f6bec6f93ec98fb8eadc7b96ed68a93f3e8031a31eeb0bce5a8dcd32bcb7d3d881316c2c3b23cbd085238d7519eee630929d80431f3023b278279f57f0453a36d2a86a39edd9e820382b0bd93d6bf99e890472', '0x9d0da05ca59913bc38a8630590f2627c154080e0a8dc99cec31bef60b8f1b0227f97c0075824cff47688ffed35137dbef1d1cb4c5f0a351b6a99a5b21324516e668bb86a570400505f0e7b9012096b41c4eb3aaf947f6ea4290800007c7700e67da63472835bb0b737093a19ad4c63f5a4efb16ffa83d00700000400', '0x9e207f03cfdce586301014700e2c25931040505f0e7b9012096b41c4eb3aaf947f6ea4290800004c5f0ec2d17a76153ff51817f12d9cfc3c7f0400', '0x9e710b30bd2eab0352ddcc26417aa1945fc380699a53b51a9709a3a86039c49b5ef278e9fc244dae27e1a0380c91bff5b0488580e3d4e1ac7fa07c977fadbae52bdf75229b18508132ef09485a63ecdfe1f1dfd97c77081e0bfde17b36573208a06cb5cfba6b63f5a4efb16ffa83d0070000040280e00319962b1c57968c0e5e5ed21ccda777ef28573a3714f84a121b2eeebf538e505f0e7b9012096b41c4eb3aaf947f6ea4290800004c5f03c716fb8fff3de61a883bb76adb34a20400804b340d956860e9a95fbd7046d96dbc817cbc9c4c1e957dadaea37438b3da551d4c5f0f4993f016e2d2f8e5f43be7bb2594860400801768309698415c412fb1576d3bf2d8114a55fe78a1cf926dc543bb58da9af16d4c5f0dad6eef5c4b1c68eaa71ea17a02d9de0400', '0x9eb6f36e027abb2091cfb5110ab5087ff96c685f06155b3cd9a8c9e5e9a23fd5dc13a5ed207c4a701000000000685f08316cbf8fa0da822a20ac1c55bf1be320ac01000000000000505f0e7b9012096b41c4eb3aaf947f6ea42908000080b91b4c3190c3c118f75aeba80be97cd9bb57cb46b2ac89d5e147466f71b506a580e877e964d3d2bf6a5d3fed126f09e982f22e16b8642e12500e8282687b33f5cd801197d2d623cbb17a99b276b75a1b218bc0a91b8cb8bc1dd114b45f9bbfc1c24280b10bc2087a1a925318d66168effcd0100f1104d353039ae5e89c42a287fe741e80e671837f068725024c5c79ebb3e8cacc14bb7d60f014f942ebc698e6054b0d4b8073b0f1e9793fc43a569cb17b45c90a88ba22bb0961784de094f7dfd2c54a1fe4685f090e2fbf2d792cb324bffa9427fe1f0e20af100000b9100000', '0x9ede3d8a54d27e44a9d5ce189618f22d1008505f0e7b9012096b41c4eb3aaf947f6ea429080200804661925741afdeb52d12ad6c36d745f82559d6b0825f047e52d5b8e932e801b7', '0x9ef78c98723ddc9073523ef3beefda0c1004505f0e7b9012096b41c4eb3aaf947f6ea4290800007c77095dac46c07a40d91506e7637ec4ba5763f5a4efb16ffa83d00700000400']}, 'downward_messages': [], 'horizontal_messages': []}}], 'call_hash': '0x243c6be435114a43a4b5853062c2a0c23e33dd781e1b39b0bba92a6d86a1d7da'}})>,\n",
       "  <GenericExtrinsic(value={'extrinsic_hash': None, 'extrinsic_length': 10, 'call': {'call_index': '0x0200', 'call_function': 'set', 'call_module': 'Timestamp', 'call_args': [{'name': 'now', 'type': 'Moment', 'value': 1654767336012}], 'call_hash': '0x42f2e495c5d3e5cdbae2b0c19a4c80f55d2f3c39c8e0626d12621f8bf64ccd73'}})>,\n",
       "  <GenericExtrinsic(value={'extrinsic_hash': '0xfaded74b88c752740021cb0094c452637d210e939d44da500a8170d7b04a5372', 'extrinsic_length': 276, 'address': '5GrwvaEF5zXb26Fz9rcQpDWS57CtERHpNehXCPcNoHGKutQY', 'signature': {'Sr25519': '0xce5a51e73edb49ceeeb3ce29b52453819f684518f8407589b2a2b96dce5c0c58ecd326e34857ea0d41d9cae14ad50c6611890cadda1343fa8415ce95346d168b'}, 'era': (32, 29), 'nonce': 12, 'tip': 0, 'call': {'call_index': '0x2300', 'call_function': 'add', 'call_module': 'Messages', 'call_args': [{'name': 'on_behalf_of', 'type': 'Option<MessageSenderId>', 'value': 1}, {'name': 'schema_id', 'type': 'SchemaId', 'value': 1}, {'name': 'message', 'type': 'Bytes', 'value': 'AskReddit,Pules2,What are some good ice breaker questions?,,https://www.reddit.com/r/AskReddit/comments/v5ihpk/what_are_some_good_ice_breaker_questions/,False'}], 'call_hash': '0xfa087950787e087da95e623edf82e7c68d53b80105bd1b56e7f5dd3c5382c3cb'}})>],\n",
       " 'header': {'digest': {'logs': [<scale_info::13(value={'PreRuntime': ('0x61757261', '>%8\\x08\\x00\\x00\\x00\\x00')})>,\n",
       "    <scale_info::13(value={'Seal': ('0x61757261', '0xcedb2b8722765f843a6911b09d4dc0ebdf67d1cc7261fdffa0a3b38d2a2c3b14c480d7ac19125784765fd553655f00dc364ef39ff1cbfc683d5ff00dda9e968d')})>]},\n",
       "  'extrinsicsRoot': '0xdf4228785adf1dd8f59dcfcd907ef3b044b5e3db375de21e9e1c753739e152ef',\n",
       "  'number': 1023,\n",
       "  'parentHash': '0x13e86140c52d50d2e375d9737abab89cb0bf7a420ba9930c62bb1b944c78ef0a',\n",
       "  'stateRoot': '0xb288b987189b8702a08621de1edb73c6c6f91a2acc3468d91cdb157df3b8b54e',\n",
       "  'hash': '0x9dbe5e6b82ac046ddd30b1a3c99160f53a8380ca4b461c93b9335273d8b0a066'}}"
      ]
     },
     "execution_count": 33,
     "metadata": {},
     "output_type": "execute_result"
    }
   ],
   "source": [
    "substrate.get_block(\"0x9dbe5e6b82ac046ddd30b1a3c99160f53a8380ca4b461c93b9335273d8b0a066\")"
   ]
  },
  {
   "cell_type": "code",
   "execution_count": 244,
   "id": "3c51998b",
   "metadata": {},
   "outputs": [
    {
     "data": {
      "text/plain": [
       "('5c0d1176a568c1f92944340dbfed9e9c530ebca703c85910e7164cb7d1c9e47b',\n",
       " '50a63a871aced22e88ee6466fe5aa5d9')"
      ]
     },
     "execution_count": 244,
     "metadata": {},
     "output_type": "execute_result"
    }
   ],
   "source": [
    "substrateinterface.utils.hasher.xxh128(\"Sudo\".encode()) + substrateinterface.utils.hasher.xxh128(\"Key\".encode())"
   ]
  },
  {
   "cell_type": "code",
   "execution_count": 237,
   "id": "f12cb511",
   "metadata": {},
   "outputs": [],
   "source": [
    "substrate.rpc_request?"
   ]
  },
  {
   "cell_type": "code",
   "execution_count": 302,
   "id": "82613a61",
   "metadata": {},
   "outputs": [
    {
     "data": {
      "text/plain": [
       "4"
      ]
     },
     "execution_count": 302,
     "metadata": {},
     "output_type": "execute_result"
    }
   ],
   "source": [
    "provider_msa_id"
   ]
  },
  {
   "cell_type": "code",
   "execution_count": 308,
   "id": "4d600e85",
   "metadata": {},
   "outputs": [
    {
     "data": {
      "text/plain": [
       "2"
      ]
     },
     "execution_count": 308,
     "metadata": {},
     "output_type": "execute_result"
    }
   ],
   "source": [
    "schemaId"
   ]
  },
  {
   "cell_type": "code",
   "execution_count": 310,
   "id": "d1e614b8",
   "metadata": {
    "scrolled": true
   },
   "outputs": [
    {
     "data": {
      "text/plain": [
       "{'jsonrpc': '2.0',\n",
       " 'result': {'content': [{'block_number': 2366,\n",
       "    'data': '0x41736b5265646469742c4c617a617253686f636b582c576861742061726520736f6d6520676f6f642069636520627265616b6572207175657374696f6e733f2c2c68747470733a2f2f7777772e7265646469742e636f6d2f722f41736b5265646469742f636f6d6d656e74732f76356968706b2f776861745f6172655f736f6d655f676f6f645f6963655f627265616b65725f7175657374696f6e732f2c46616c7365',\n",
       "    'index': 0,\n",
       "    'msa_id': 9,\n",
       "    'signer': '5DJhKK6JJzZHcF5V1C4e9noRHcid3C73SRW7xRCnSvNNJa3v'},\n",
       "   {'block_number': 2374,\n",
       "    'data': '0x41736b5265646469742c4c617a617253686f636b582c576861742061726520736f6d6520676f6f642069636520627265616b6572207175657374696f6e733f2c2c68747470733a2f2f7777772e7265646469742e636f6d2f722f41736b5265646469742f636f6d6d656e74732f76356968706b2f776861745f6172655f736f6d655f676f6f645f6963655f627265616b65725f7175657374696f6e732f2c46616c7365',\n",
       "    'index': 0,\n",
       "    'msa_id': 9,\n",
       "    'signer': '5DJhKK6JJzZHcF5V1C4e9noRHcid3C73SRW7xRCnSvNNJa3v'},\n",
       "   {'block_number': 2468,\n",
       "    'data': '0x41736b5265646469742c4c617a617253686f636b582c576861742061726520736f6d6520676f6f642069636520627265616b6572207175657374696f6e733f2c2c68747470733a2f2f7777772e7265646469742e636f6d2f722f41736b5265646469742f636f6d6d656e74732f76356968706b2f776861745f6172655f736f6d655f676f6f645f6963655f627265616b65725f7175657374696f6e732f2c46616c7365',\n",
       "    'index': 0,\n",
       "    'msa_id': 10,\n",
       "    'signer': '5E4ZNsV3jXbcjbZLytjFnQtgrjqej7RDNZNuEppp9BBdDVeX'},\n",
       "   {'block_number': 2479,\n",
       "    'data': '0x41736b5265646469742c4c617a617253686f636b582c576861742061726520736f6d6520676f6f642069636520627265616b6572207175657374696f6e733f2c2c68747470733a2f2f7777772e7265646469742e636f6d2f722f41736b5265646469742f636f6d6d656e74732f76356968706b2f776861745f6172655f736f6d655f676f6f645f6963655f627265616b65725f7175657374696f6e732f2c46616c7365',\n",
       "    'index': 0,\n",
       "    'msa_id': 10,\n",
       "    'signer': '5E4ZNsV3jXbcjbZLytjFnQtgrjqej7RDNZNuEppp9BBdDVeX'},\n",
       "   {'block_number': 2517,\n",
       "    'data': '0x41736b5265646469742c4c617a617253686f636b582c576861742061726520736f6d6520676f6f642069636520627265616b6572207175657374696f6e733f2c2c68747470733a2f2f7777772e7265646469742e636f6d2f722f41736b5265646469742f636f6d6d656e74732f76356968706b2f776861745f6172655f736f6d655f676f6f645f6963655f627265616b65725f7175657374696f6e732f2c46616c7365',\n",
       "    'index': 0,\n",
       "    'msa_id': 3,\n",
       "    'signer': '5GrwvaEF5zXb26Fz9rcQpDWS57CtERHpNehXCPcNoHGKutQY'},\n",
       "   {'block_number': 2550,\n",
       "    'data': '0x41736b5265646469742c4c617a617253686f636b582c576861742061726520736f6d6520676f6f642069636520627265616b6572207175657374696f6e733f2c2c68747470733a2f2f7777772e7265646469742e636f6d2f722f41736b5265646469742f636f6d6d656e74732f76356968706b2f776861745f6172655f736f6d655f676f6f645f6963655f627265616b65725f7175657374696f6e732f2c46616c7365',\n",
       "    'index': 0,\n",
       "    'msa_id': 3,\n",
       "    'signer': '5GrwvaEF5zXb26Fz9rcQpDWS57CtERHpNehXCPcNoHGKutQY'},\n",
       "   {'block_number': 2557,\n",
       "    'data': '0x41736b5265646469742c4c617a617253686f636b582c576861742061726520736f6d6520676f6f642069636520627265616b6572207175657374696f6e733f2c2c68747470733a2f2f7777772e7265646469742e636f6d2f722f41736b5265646469742f636f6d6d656e74732f76356968706b2f776861745f6172655f736f6d655f676f6f645f6963655f627265616b65725f7175657374696f6e732f2c46616c7365',\n",
       "    'index': 0,\n",
       "    'msa_id': 3,\n",
       "    'signer': '5GrwvaEF5zXb26Fz9rcQpDWS57CtERHpNehXCPcNoHGKutQY'},\n",
       "   {'block_number': 2634,\n",
       "    'data': '0x41736b5265646469742c4c617a617253686f636b582c576861742061726520736f6d6520676f6f642069636520627265616b6572207175657374696f6e733f2c2c68747470733a2f2f7777772e7265646469742e636f6d2f722f41736b5265646469742f636f6d6d656e74732f76356968706b2f776861745f6172655f736f6d655f676f6f645f6963655f627265616b65725f7175657374696f6e732f2c46616c7365',\n",
       "    'index': 0,\n",
       "    'msa_id': 3,\n",
       "    'signer': '5GrwvaEF5zXb26Fz9rcQpDWS57CtERHpNehXCPcNoHGKutQY'},\n",
       "   {'block_number': 2661,\n",
       "    'data': '0x41736b5265646469742c4c617a617253686f636b582c576861742061726520736f6d6520676f6f642069636520627265616b6572207175657374696f6e733f2c2c68747470733a2f2f7777772e7265646469742e636f6d2f722f41736b5265646469742f636f6d6d656e74732f76356968706b2f776861745f6172655f736f6d655f676f6f645f6963655f627265616b65725f7175657374696f6e732f2c46616c7365',\n",
       "    'index': 0,\n",
       "    'msa_id': 3,\n",
       "    'signer': '5GrwvaEF5zXb26Fz9rcQpDWS57CtERHpNehXCPcNoHGKutQY'},\n",
       "   {'block_number': 2661,\n",
       "    'data': '0x41736b5265646469742c4c617a617253686f636b582c576861742061726520736f6d6520676f6f642069636520627265616b6572207175657374696f6e733f2c2c68747470733a2f2f7777772e7265646469742e636f6d2f722f41736b5265646469742f636f6d6d656e74732f76356968706b2f776861745f6172655f736f6d655f676f6f645f6963655f627265616b65725f7175657374696f6e732f2c46616c7365',\n",
       "    'index': 1,\n",
       "    'msa_id': 4,\n",
       "    'signer': '5FHneW46xGXgs5mUiveU4sbTyGBzmstUspZC92UhjJM694ty'},\n",
       "   {'block_number': 2661,\n",
       "    'data': '0x41736b5265646469742c4c617a617253686f636b582c576861742061726520736f6d6520676f6f642069636520627265616b6572207175657374696f6e733f2c2c68747470733a2f2f7777772e7265646469742e636f6d2f722f41736b5265646469742f636f6d6d656e74732f76356968706b2f776861745f6172655f736f6d655f676f6f645f6963655f627265616b65725f7175657374696f6e732f2c46616c7365',\n",
       "    'index': 2,\n",
       "    'msa_id': 3,\n",
       "    'signer': '5GrwvaEF5zXb26Fz9rcQpDWS57CtERHpNehXCPcNoHGKutQY'},\n",
       "   {'block_number': 2661,\n",
       "    'data': '0x41736b5265646469742c4c617a617253686f636b582c576861742061726520736f6d6520676f6f642069636520627265616b6572207175657374696f6e733f2c2c68747470733a2f2f7777772e7265646469742e636f6d2f722f41736b5265646469742f636f6d6d656e74732f76356968706b2f776861745f6172655f736f6d655f676f6f645f6963655f627265616b65725f7175657374696f6e732f2c46616c7365',\n",
       "    'index': 3,\n",
       "    'msa_id': 4,\n",
       "    'signer': '5FHneW46xGXgs5mUiveU4sbTyGBzmstUspZC92UhjJM694ty'},\n",
       "   {'block_number': 2680,\n",
       "    'data': '0x41736b5265646469742c4c617a617253686f636b582c576861742061726520736f6d6520676f6f642069636520627265616b6572207175657374696f6e733f2c2c68747470733a2f2f7777772e7265646469742e636f6d2f722f41736b5265646469742f636f6d6d656e74732f76356968706b2f776861745f6172655f736f6d655f676f6f645f6963655f627265616b65725f7175657374696f6e732f2c46616c7365',\n",
       "    'index': 0,\n",
       "    'msa_id': 3,\n",
       "    'signer': '5GrwvaEF5zXb26Fz9rcQpDWS57CtERHpNehXCPcNoHGKutQY'}],\n",
       "  'has_next': False},\n",
       " 'id': 812}"
      ]
     },
     "execution_count": 310,
     "metadata": {},
     "output_type": "execute_result"
    }
   ],
   "source": [
    "params = [\n",
    "    2,\n",
    "    {\n",
    "        \"page_size\": 10000,\n",
    "        \"from_block\": 0,\n",
    "        \"to_block\": 10000,\n",
    "        \"from_index\": 1,\n",
    "    }\n",
    "#     substrateinterface.utils.hasher.xxh128(\"Messages\".encode()) + substrateinterface.utils.hasher.xxh128(\"BlockMessages\".encode()),\n",
    "#     substrate.get_block_hash(2)\n",
    "]\n",
    "\n",
    "substrate.rpc_request(\n",
    "    method='messages_getBySchema',\n",
    "    params=params,\n",
    ")"
   ]
  },
  {
   "cell_type": "code",
   "execution_count": 224,
   "id": "43b59131",
   "metadata": {},
   "outputs": [
    {
     "data": {
      "text/plain": [
       "<xxhash.xxh3_128 at 0x7f6626692890>"
      ]
     },
     "execution_count": 224,
     "metadata": {},
     "output_type": "execute_result"
    }
   ],
   "source": [
    "s"
   ]
  },
  {
   "cell_type": "code",
   "execution_count": 351,
   "id": "22c9a7fe",
   "metadata": {},
   "outputs": [],
   "source": [
    "t = data['result']['content'][0]['data']"
   ]
  },
  {
   "cell_type": "code",
   "execution_count": 356,
   "id": "0da4fab0",
   "metadata": {},
   "outputs": [
    {
     "data": {
      "text/plain": [
       "'AskReddit,LazarShockX,What are some good ice breaker questions?,,https://www.reddit.com/r/AskReddit/comments/v5ihpk/what_are_some_good_ice_breaker_questions/,False'"
      ]
     },
     "execution_count": 356,
     "metadata": {},
     "output_type": "execute_result"
    }
   ],
   "source": [
    "bytes.fromhex(data['result']['content'][0]['data'][2:]).decode()"
   ]
  },
  {
   "cell_type": "code",
   "execution_count": 354,
   "id": "b5559b2b",
   "metadata": {},
   "outputs": [
    {
     "data": {
      "text/plain": [
       "'AskReddit,LazarShockX,What are some good ice breaker questions?,,https://www.reddit.com/r/AskReddit/comments/v5ihpk/what_are_some_good_ice_breaker_questions/,False'"
      ]
     },
     "execution_count": 354,
     "metadata": {},
     "output_type": "execute_result"
    }
   ],
   "source": [
    "bytes.fromhex(message.encode().hex()).decode()"
   ]
  },
  {
   "cell_type": "code",
   "execution_count": 348,
   "id": "3f7213d8",
   "metadata": {},
   "outputs": [
    {
     "data": {
      "text/plain": [
       "'41736b5265646469742c4c617a617253686f636b582c576861742061726520736f6d6520676f6f642069636520627265616b6572207175657374696f6e733f2c2c68747470733a2f2f7777772e7265646469742e636f6d2f722f41736b5265646469742f636f6d6d656e74732f76356968706b2f776861745f6172655f736f6d655f676f6f645f6963655f627265616b65725f7175657374696f6e732f2c46616c7365'"
      ]
     },
     "execution_count": 348,
     "metadata": {},
     "output_type": "execute_result"
    }
   ],
   "source": [
    "message.encode().hex()"
   ]
  },
  {
   "cell_type": "code",
   "execution_count": null,
   "id": "dc52fd74",
   "metadata": {},
   "outputs": [],
   "source": []
  },
  {
   "cell_type": "code",
   "execution_count": null,
   "id": "adf1fe5f",
   "metadata": {},
   "outputs": [],
   "source": []
  },
  {
   "cell_type": "code",
   "execution_count": null,
   "id": "02aa8bbf",
   "metadata": {},
   "outputs": [],
   "source": []
  },
  {
   "cell_type": "code",
   "execution_count": null,
   "id": "a4a57aa7",
   "metadata": {},
   "outputs": [],
   "source": []
  },
  {
   "cell_type": "code",
   "execution_count": null,
   "id": "f4c3b446",
   "metadata": {},
   "outputs": [],
   "source": []
  }
 ],
 "metadata": {
  "kernelspec": {
   "display_name": "Python 3 (ipykernel)",
   "language": "python",
   "name": "python3"
  },
  "language_info": {
   "codemirror_mode": {
    "name": "ipython",
    "version": 3
   },
   "file_extension": ".py",
   "mimetype": "text/x-python",
   "name": "python",
   "nbconvert_exporter": "python",
   "pygments_lexer": "ipython3",
   "version": "3.8.5"
  }
 },
 "nbformat": 4,
 "nbformat_minor": 5
}
