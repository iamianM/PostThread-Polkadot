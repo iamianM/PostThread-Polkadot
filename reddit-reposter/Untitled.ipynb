{
 "cells": [
  {
   "cell_type": "code",
   "execution_count": 1,
   "id": "1d109dc0",
   "metadata": {
    "scrolled": true
   },
   "outputs": [
    {
     "name": "stdout",
     "output_type": "stream",
     "text": [
      "Collecting ipfscluster\n",
      "  Downloading ipfscluster-0.2.0-py2.py3-none-any.whl (23 kB)\n",
      "Requirement already satisfied: requests in /home/chia/miniconda3/lib/python3.8/site-packages (from ipfscluster) (2.24.0)\n",
      "Collecting pyyaml\n",
      "  Downloading PyYAML-6.0-cp38-cp38-manylinux_2_5_x86_64.manylinux1_x86_64.manylinux_2_12_x86_64.manylinux2010_x86_64.whl (701 kB)\n",
      "\u001b[K     |████████████████████████████████| 701 kB 8.1 MB/s eta 0:00:01\n",
      "\u001b[?25hCollecting argparse\n",
      "  Downloading argparse-1.4.0-py2.py3-none-any.whl (23 kB)\n",
      "Collecting termcolor\n",
      "  Downloading termcolor-1.1.0.tar.gz (3.9 kB)\n",
      "Requirement already satisfied: pyparsing in /home/chia/miniconda3/lib/python3.8/site-packages (from ipfscluster) (3.0.9)\n",
      "Collecting ipfshttpclient\n",
      "  Downloading ipfshttpclient-0.7.0-py3-none-any.whl (82 kB)\n",
      "\u001b[K     |████████████████████████████████| 82 kB 3.8 MB/s  eta 0:00:01\n",
      "\u001b[?25hRequirement already satisfied: certifi>=2017.4.17 in /home/chia/miniconda3/lib/python3.8/site-packages (from requests->ipfscluster) (2020.6.20)\n",
      "Requirement already satisfied: chardet<4,>=3.0.2 in /home/chia/miniconda3/lib/python3.8/site-packages (from requests->ipfscluster) (3.0.4)\n",
      "Requirement already satisfied: idna<3,>=2.5 in /home/chia/miniconda3/lib/python3.8/site-packages (from requests->ipfscluster) (2.10)\n",
      "Requirement already satisfied: urllib3!=1.25.0,!=1.25.1,<1.26,>=1.21.1 in /home/chia/miniconda3/lib/python3.8/site-packages (from requests->ipfscluster) (1.25.11)\n",
      "Collecting multiaddr>=0.0.7\n",
      "  Using cached multiaddr-0.0.9-py2.py3-none-any.whl (16 kB)\n",
      "Requirement already satisfied: six in /home/chia/miniconda3/lib/python3.8/site-packages (from multiaddr>=0.0.7->ipfshttpclient->ipfscluster) (1.15.0)\n",
      "Processing /home/chia/.cache/pip/wheels/cc/a8/a4/4d9e9807c27585dc974fc0e86a3e4345649d71f8a35906d1a8/varint-1.0.2-py3-none-any.whl\n",
      "Collecting netaddr\n",
      "  Downloading netaddr-0.8.0-py2.py3-none-any.whl (1.9 MB)\n",
      "\u001b[K     |████████████████████████████████| 1.9 MB 33.0 MB/s eta 0:00:01\n",
      "\u001b[?25hRequirement already satisfied: base58 in /home/chia/miniconda3/lib/python3.8/site-packages (from multiaddr>=0.0.7->ipfshttpclient->ipfscluster) (2.1.1)\n",
      "Building wheels for collected packages: termcolor\n",
      "  Building wheel for termcolor (setup.py) ... \u001b[?25ldone\n",
      "\u001b[?25h  Created wheel for termcolor: filename=termcolor-1.1.0-py3-none-any.whl size=4830 sha256=be66a0901ddab058d5df30b03d152970525236164df985da96d7bd977f1a555c\n",
      "  Stored in directory: /home/chia/.cache/pip/wheels/a0/16/9c/5473df82468f958445479c59e784896fa24f4a5fc024b0f501\n",
      "Successfully built termcolor\n",
      "Installing collected packages: pyyaml, argparse, termcolor, varint, netaddr, multiaddr, ipfshttpclient, ipfscluster\n",
      "Successfully installed argparse-1.4.0 ipfscluster-0.2.0 ipfshttpclient-0.7.0 multiaddr-0.0.9 netaddr-0.8.0 pyyaml-6.0 termcolor-1.1.0 varint-1.0.2\n",
      "Note: you may need to restart the kernel to use updated packages.\n"
     ]
    }
   ],
   "source": [
    "pip install ipfscluster"
   ]
  },
  {
   "cell_type": "code",
   "execution_count": 2,
   "id": "3a61dec1",
   "metadata": {},
   "outputs": [
    {
     "name": "stdout",
     "output_type": "stream",
     "text": [
      "Found existing installation: ipfshttpclient 0.7.0\n",
      "Uninstalling ipfshttpclient-0.7.0:\n",
      "  Successfully uninstalled ipfshttpclient-0.7.0\n",
      "Note: you may need to restart the kernel to use updated packages.\n"
     ]
    }
   ],
   "source": [
    "pip uninstall ipfshttpclient -y"
   ]
  },
  {
   "cell_type": "code",
   "execution_count": 3,
   "id": "a2eb82ab",
   "metadata": {
    "scrolled": true
   },
   "outputs": [
    {
     "name": "stdout",
     "output_type": "stream",
     "text": [
      "Collecting ipfshttpclient==0.8.0a1\n",
      "  Downloading ipfshttpclient-0.8.0a1-py3-none-any.whl (82 kB)\n",
      "\u001b[K     |████████████████████████████████| 82 kB 1.4 MB/s eta 0:00:011\n",
      "\u001b[?25hRequirement already satisfied: multiaddr>=0.0.7 in /home/chia/miniconda3/lib/python3.8/site-packages (from ipfshttpclient==0.8.0a1) (0.0.9)\n",
      "Requirement already satisfied: requests>=2.11 in /home/chia/miniconda3/lib/python3.8/site-packages (from ipfshttpclient==0.8.0a1) (2.24.0)\n",
      "Requirement already satisfied: base58 in /home/chia/miniconda3/lib/python3.8/site-packages (from multiaddr>=0.0.7->ipfshttpclient==0.8.0a1) (2.1.1)\n",
      "Requirement already satisfied: varint in /home/chia/miniconda3/lib/python3.8/site-packages (from multiaddr>=0.0.7->ipfshttpclient==0.8.0a1) (1.0.2)\n",
      "Requirement already satisfied: netaddr in /home/chia/miniconda3/lib/python3.8/site-packages (from multiaddr>=0.0.7->ipfshttpclient==0.8.0a1) (0.8.0)\n",
      "Requirement already satisfied: six in /home/chia/miniconda3/lib/python3.8/site-packages (from multiaddr>=0.0.7->ipfshttpclient==0.8.0a1) (1.15.0)\n",
      "Requirement already satisfied: urllib3!=1.25.0,!=1.25.1,<1.26,>=1.21.1 in /home/chia/miniconda3/lib/python3.8/site-packages (from requests>=2.11->ipfshttpclient==0.8.0a1) (1.25.11)\n",
      "Requirement already satisfied: certifi>=2017.4.17 in /home/chia/miniconda3/lib/python3.8/site-packages (from requests>=2.11->ipfshttpclient==0.8.0a1) (2020.6.20)\n",
      "Requirement already satisfied: chardet<4,>=3.0.2 in /home/chia/miniconda3/lib/python3.8/site-packages (from requests>=2.11->ipfshttpclient==0.8.0a1) (3.0.4)\n",
      "Requirement already satisfied: idna<3,>=2.5 in /home/chia/miniconda3/lib/python3.8/site-packages (from requests>=2.11->ipfshttpclient==0.8.0a1) (2.10)\n",
      "Installing collected packages: ipfshttpclient\n",
      "Successfully installed ipfshttpclient-0.8.0a1\n",
      "Note: you may need to restart the kernel to use updated packages.\n"
     ]
    }
   ],
   "source": [
    "pip install ipfshttpclient==0.8.0a1"
   ]
  },
  {
   "cell_type": "code",
   "execution_count": 7,
   "id": "bfcfb241",
   "metadata": {},
   "outputs": [],
   "source": [
    "client.add?"
   ]
  },
  {
   "cell_type": "code",
   "execution_count": 21,
   "id": "046357bf",
   "metadata": {},
   "outputs": [],
   "source": [
    "import json"
   ]
  },
  {
   "cell_type": "code",
   "execution_count": 2,
   "id": "b143079e",
   "metadata": {
    "scrolled": true
   },
   "outputs": [
    {
     "data": {
      "text/plain": [
       "'fdsafkljdskafjaksdjf\\n'"
      ]
     },
     "execution_count": 2,
     "metadata": {},
     "output_type": "execute_result"
    }
   ],
   "source": [
    ">>> import ipfshttpclient\n",
    ">>> client = ipfshttpclient.connect()  # Connects to: /dns/localhost/tcp/5001/http\n",
    ">>> res = client.add('package.json')\n",
    ">>> res\n",
    "{'Hash': 'QmWxS5aNTFEc9XbMX1ASvLET1zrqEaTssqt33rVZQCQb22', 'Name': 'test.txt'}\n",
    ">>> client.cat(res['Hash'])\n",
    "'fdsafkljdskafjaksdjf\\n'"
   ]
  },
  {
   "cell_type": "code",
   "execution_count": 22,
   "id": "ec8308b8",
   "metadata": {},
   "outputs": [
    {
     "data": {
      "text/plain": [
       "{'name': 'mint-reddit-posts',\n",
       " 'type': 'module',\n",
       " 'version': 'monthly-2022-01',\n",
       " 'private': True,\n",
       " 'author': 'Parity Technologies <admin@parity.io>',\n",
       " 'license': 'Unlicense',\n",
       " 'homepage': 'https://substrate-developer-hub.github.io/substrate-front-end-template',\n",
       " 'bugs': {'url': 'https://github.com/substrate-developer-hub/substrate-front-end-template/issues'},\n",
       " 'keywords': ['substrate', 'substrate-ui', 'polkadot-js'],\n",
       " 'scripts': {'start': 'react-app-rewired start',\n",
       "  'build': 'react-app-rewired build',\n",
       "  'test': 'CI=true react-app-rewired test',\n",
       "  'eject': 'react-scripts eject',\n",
       "  'eslint:check': 'eslint --ext .jsx,.js src/',\n",
       "  'eslint:write': 'eslint --fix --ext .jsx,.js src/',\n",
       "  'prettier:check': 'prettier -c src/*',\n",
       "  'prettier:write': 'prettier -w src/*',\n",
       "  'deploy': \"gh-pages -d build -m '[ci skip] Updates'\"},\n",
       " 'dependencies': {'@polkadot/api': '^7.10.1',\n",
       "  '@polkadot/extension-dapp': '^0.42.7',\n",
       "  '@polkadot/keyring': '^8.4.1',\n",
       "  '@polkadot/networks': '^8.4.1',\n",
       "  '@polkadot/types': '^7.10.1',\n",
       "  '@polkadot/ui-keyring': '^1.1.1',\n",
       "  '@polkadot/ui-settings': '^1.1.1',\n",
       "  '@polkadot/util': '^8.4.1',\n",
       "  '@polkadot/util-crypto': '^8.4.1',\n",
       "  'node-polyfill-webpack-plugin': '^1.1.4',\n",
       "  'prop-types': '^15.8.1',\n",
       "  'react': '^17.0.2',\n",
       "  'react-copy-to-clipboard': '^5.0.4',\n",
       "  'react-dom': '^17.0.2',\n",
       "  'react-scripts': '^5.0.0',\n",
       "  'semantic-ui-css': 'Semantic-Org/Semantic-UI-CSS#master',\n",
       "  'semantic-ui-react': '^2.1.2',\n",
       "  'stream-browserify': '^3.0.0'},\n",
       " 'devDependencies': {'eslint': '^8.10.0',\n",
       "  'eslint-config-prettier': '^8.4.0',\n",
       "  'eslint-config-react-app': '^7.0.0',\n",
       "  'gh-pages': '^3.2.3',\n",
       "  'prettier': '2.5.1',\n",
       "  'react-app-rewired': '^2.2.1',\n",
       "  'semistandard': '^16.0.1'},\n",
       " 'resolutions': {'eslint-plugin-jsx-a11y': '6.5.1'},\n",
       " 'eslintConfig': {'extends': ['react-app', 'eslint:recommended', 'prettier']},\n",
       " 'engines': {'node': '>=16', 'npm': '>=8'},\n",
       " 'browserslist': {'production': ['>0.2%',\n",
       "   'not ie <= 99',\n",
       "   'not android <= 4.4.4',\n",
       "   'not dead',\n",
       "   'not op_mini all'],\n",
       "  'development': ['last 1 chrome version',\n",
       "   'last 1 firefox version',\n",
       "   'last 1 safari version']},\n",
       " 'packageManager': 'yarn@3.1.1'}"
      ]
     },
     "execution_count": 22,
     "metadata": {},
     "output_type": "execute_result"
    }
   ],
   "source": [
    "json.loads(client.cat(res['Hash']).decode())"
   ]
  },
  {
   "cell_type": "code",
   "execution_count": 14,
   "id": "79e33703",
   "metadata": {},
   "outputs": [
    {
     "data": {
      "text/plain": [
       "<ipfshttpclient.client.base.ResponseBase: {'Name': 'package.json', 'Hash': 'QmVU8KJtHSETz1PUWFbKHpEm7o1XLYptFwaM4oAgUrFrWo', 'Size': '2378'}>"
      ]
     },
     "execution_count": 14,
     "metadata": {},
     "output_type": "execute_result"
    }
   ],
   "source": [
    "client.add('package.json', only_hash=True)"
   ]
  },
  {
   "cell_type": "code",
   "execution_count": 18,
   "id": "195df00e",
   "metadata": {},
   "outputs": [],
   "source": [
    "client.cat?"
   ]
  },
  {
   "cell_type": "code",
   "execution_count": 15,
   "id": "d02c09e9",
   "metadata": {},
   "outputs": [],
   "source": [
    "client.(res['Hash'])"
   ]
  },
  {
   "cell_type": "code",
   "execution_count": 16,
   "id": "380025a4",
   "metadata": {},
   "outputs": [
    {
     "data": {
      "text/plain": [
       "<ipfshttpclient.client.base.ResponseBase: {'Name': 'package.json', 'Hash': 'QmVU8KJtHSETz1PUWFbKHpEm7o1XLYptFwaM4oAgUrFrWo', 'Size': '2378'}>"
      ]
     },
     "execution_count": 16,
     "metadata": {},
     "output_type": "execute_result"
    }
   ],
   "source": [
    "res"
   ]
  },
  {
   "cell_type": "code",
   "execution_count": 8,
   "id": "ca68497b",
   "metadata": {},
   "outputs": [],
   "source": [
    "import substrateinterface\n",
    "import json"
   ]
  },
  {
   "cell_type": "code",
   "execution_count": 9,
   "id": "92f039cd",
   "metadata": {},
   "outputs": [],
   "source": [
    "t = json.load(open('package.json'))"
   ]
  },
  {
   "cell_type": "code",
   "execution_count": 11,
   "id": "d20ddfe0",
   "metadata": {
    "scrolled": true
   },
   "outputs": [
    {
     "ename": "TypeError",
     "evalue": "a bytes-like object is required, not 'dict'",
     "output_type": "error",
     "traceback": [
      "\u001b[0;31m---------------------------------------------------------------------------\u001b[0m",
      "\u001b[0;31mTypeError\u001b[0m                                 Traceback (most recent call last)",
      "Input \u001b[0;32mIn [11]\u001b[0m, in \u001b[0;36m<cell line: 1>\u001b[0;34m()\u001b[0m\n\u001b[0;32m----> 1\u001b[0m \u001b[43msubstrateinterface\u001b[49m\u001b[38;5;241;43m.\u001b[39;49m\u001b[43mutils\u001b[49m\u001b[38;5;241;43m.\u001b[39;49m\u001b[43mhasher\u001b[49m\u001b[38;5;241;43m.\u001b[39;49m\u001b[43mxxh128\u001b[49m\u001b[43m(\u001b[49m\u001b[43mt\u001b[49m\u001b[43m)\u001b[49m\n",
      "File \u001b[0;32m~/miniconda3/lib/python3.8/site-packages/substrateinterface/utils/hasher.py:82\u001b[0m, in \u001b[0;36mxxh128\u001b[0;34m(data)\u001b[0m\n\u001b[1;32m     70\u001b[0m \u001b[38;5;28;01mdef\u001b[39;00m \u001b[38;5;21mxxh128\u001b[39m(data):\n\u001b[1;32m     71\u001b[0m     \u001b[38;5;124;03m\"\"\"\u001b[39;00m\n\u001b[1;32m     72\u001b[0m \u001b[38;5;124;03m    Helper function to calculate a 2 concatenated xxh64 hash for provided data, used as key for several Substrate\u001b[39;00m\n\u001b[1;32m     73\u001b[0m \n\u001b[0;32m   (...)\u001b[0m\n\u001b[1;32m     80\u001b[0m \n\u001b[1;32m     81\u001b[0m \u001b[38;5;124;03m    \"\"\"\u001b[39;00m\n\u001b[0;32m---> 82\u001b[0m     storage_key1 \u001b[38;5;241m=\u001b[39m \u001b[38;5;28mbytearray\u001b[39m(\u001b[43mxxhash\u001b[49m\u001b[38;5;241;43m.\u001b[39;49m\u001b[43mxxh64\u001b[49m\u001b[43m(\u001b[49m\u001b[43mdata\u001b[49m\u001b[43m,\u001b[49m\u001b[43m \u001b[49m\u001b[43mseed\u001b[49m\u001b[38;5;241;43m=\u001b[39;49m\u001b[38;5;241;43m0\u001b[39;49m\u001b[43m)\u001b[49m\u001b[38;5;241m.\u001b[39mdigest())\n\u001b[1;32m     83\u001b[0m     storage_key1\u001b[38;5;241m.\u001b[39mreverse()\n\u001b[1;32m     85\u001b[0m     storage_key2 \u001b[38;5;241m=\u001b[39m \u001b[38;5;28mbytearray\u001b[39m(xxhash\u001b[38;5;241m.\u001b[39mxxh64(data, seed\u001b[38;5;241m=\u001b[39m\u001b[38;5;241m1\u001b[39m)\u001b[38;5;241m.\u001b[39mdigest())\n",
      "\u001b[0;31mTypeError\u001b[0m: a bytes-like object is required, not 'dict'"
     ]
    }
   ],
   "source": [
    "substrateinterface.utils.hasher.xxh128(t)"
   ]
  },
  {
   "cell_type": "code",
   "execution_count": 4,
   "id": "8442baa3",
   "metadata": {},
   "outputs": [],
   "source": [
    "client.cat?"
   ]
  },
  {
   "cell_type": "code",
   "execution_count": null,
   "id": "21995285",
   "metadata": {},
   "outputs": [],
   "source": []
  }
 ],
 "metadata": {
  "kernelspec": {
   "display_name": "Python 3 (ipykernel)",
   "language": "python",
   "name": "python3"
  },
  "language_info": {
   "codemirror_mode": {
    "name": "ipython",
    "version": 3
   },
   "file_extension": ".py",
   "mimetype": "text/x-python",
   "name": "python",
   "nbconvert_exporter": "python",
   "pygments_lexer": "ipython3",
   "version": "3.8.5"
  }
 },
 "nbformat": 4,
 "nbformat_minor": 5
}
