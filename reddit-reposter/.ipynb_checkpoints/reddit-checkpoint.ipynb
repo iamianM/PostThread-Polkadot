{
 "cells": [
  {
   "cell_type": "code",
   "execution_count": 2,
   "id": "f6e18c29",
   "metadata": {
    "scrolled": true
   },
   "outputs": [
    {
     "name": "stdout",
     "output_type": "stream",
     "text": [
      "Collecting praw\n",
      "  Downloading praw-7.6.0-py3-none-any.whl (188 kB)\n",
      "\u001b[K     |████████████████████████████████| 188 kB 5.4 MB/s eta 0:00:01\n",
      "\u001b[?25hCollecting prawcore<3,>=2.1\n",
      "  Downloading prawcore-2.3.0-py3-none-any.whl (16 kB)\n",
      "Collecting update-checker>=0.18\n",
      "  Downloading update_checker-0.18.0-py3-none-any.whl (7.0 kB)\n",
      "Requirement already satisfied: websocket-client>=0.54.0 in /home/chia/miniconda3/lib/python3.8/site-packages (from praw) (1.3.2)\n",
      "Requirement already satisfied: requests<3.0,>=2.6.0 in /home/chia/miniconda3/lib/python3.8/site-packages (from prawcore<3,>=2.1->praw) (2.24.0)\n",
      "Requirement already satisfied: certifi>=2017.4.17 in /home/chia/miniconda3/lib/python3.8/site-packages (from requests<3.0,>=2.6.0->prawcore<3,>=2.1->praw) (2020.6.20)\n",
      "Requirement already satisfied: urllib3!=1.25.0,!=1.25.1,<1.26,>=1.21.1 in /home/chia/miniconda3/lib/python3.8/site-packages (from requests<3.0,>=2.6.0->prawcore<3,>=2.1->praw) (1.25.11)\n",
      "Requirement already satisfied: chardet<4,>=3.0.2 in /home/chia/miniconda3/lib/python3.8/site-packages (from requests<3.0,>=2.6.0->prawcore<3,>=2.1->praw) (3.0.4)\n",
      "Requirement already satisfied: idna<3,>=2.5 in /home/chia/miniconda3/lib/python3.8/site-packages (from requests<3.0,>=2.6.0->prawcore<3,>=2.1->praw) (2.10)\n",
      "Installing collected packages: prawcore, update-checker, praw\n",
      "Successfully installed praw-7.6.0 prawcore-2.3.0 update-checker-0.18.0\n"
     ]
    }
   ],
   "source": [
    "!pip install praw"
   ]
  },
  {
   "cell_type": "code",
   "execution_count": 30,
   "id": "4298de95",
   "metadata": {},
   "outputs": [],
   "source": [
    "from praw import reddit\n",
    "import json\n",
    "import time\n",
    "import substrateinterface\n",
    "import ipfshttpclient\n",
    "from os import listdir\n",
    "from os.path import isfile, join"
   ]
  },
  {
   "cell_type": "code",
   "execution_count": 15,
   "id": "780ca96b",
   "metadata": {},
   "outputs": [],
   "source": [
    "import praw\n",
    "\n",
    "reddit = praw.Reddit(\n",
    "    client_id=\"LtjnfEAH_rRdFDbMwILwxw\",\n",
    "    client_secret=\"04WSBZHCzqm0ElLYMRkmTkmijCCSog\",\n",
    "    password=\"PosterThreading69\",\n",
    "    user_agent=\"my user agent\",\n",
    "    username=\"postthreadbot\",\n",
    ")"
   ]
  },
  {
   "cell_type": "code",
   "execution_count": 3,
   "id": "0ecdd08c",
   "metadata": {},
   "outputs": [],
   "source": [
    "subreddits = \"announcements+Art+AskReddit+askscience+atheism+aww+blog+books+creepy+dataisbeautiful+DIY+Documentaries+EarthPorn+explainlikeimfive+food+funny+Futurology+gadgets+gaming+GetMotivated+gifs+history+IAmA+InternetIsBeautiful+Jokes+LifeProTips+listentothis+mildlyinteresting+movies+Music+news+nosleep+nottheonion+OldSchoolCool+personalfinance+philosophy+photoshopbattles+pics+science+Showerthoughts+space+sports+television+tifu+todayilearned+TwoXChromosomes+UpliftingNews+videos+worldnews+WritingPrompts\""
   ]
  },
  {
   "cell_type": "code",
   "execution_count": 4,
   "id": "c80d80b8",
   "metadata": {
    "scrolled": true
   },
   "outputs": [],
   "source": [
    "from substrateinterface import SubstrateInterface, Keypair\n",
    "from substrateinterface.exceptions import SubstrateRequestException\n",
    "\n",
    "substrate = SubstrateInterface(\n",
    "    url=\"ws://127.0.0.1:11946\",\n",
    "    ss58_format=42,\n",
    "    type_registry_preset='kusama'\n",
    ")"
   ]
  },
  {
   "cell_type": "code",
   "execution_count": 61,
   "id": "2e99d011",
   "metadata": {},
   "outputs": [],
   "source": [
    "# Function to make extrinsic calls\n",
    "def make_call(call_module, call_function, call_params, keypair, wait_for_inclusion=True, wait_for_finalization=False):\n",
    "    call = substrate.compose_call(\n",
    "        call_module=call_module,  \n",
    "        call_function=call_function,\n",
    "        call_params=call_params\n",
    "    )\n",
    "\n",
    "    extrinsic = substrate.create_signed_extrinsic(call=call, keypair=keypair)\n",
    "\n",
    "    try:\n",
    "        receipt = substrate.submit_extrinsic(extrinsic, wait_for_inclusion=wait_for_inclusion, wait_for_finalization=wait_for_finalization)\n",
    "        print(\"Extrinsic '{}' sent and included in block '{}'\".format(receipt.extrinsic_hash, receipt.block_hash))\n",
    "\n",
    "    except SubstrateRequestException as e:\n",
    "        print(\"Failed to send: {}\".format(e))\n",
    "    return receipt"
   ]
  },
  {
   "cell_type": "code",
   "execution_count": 6,
   "id": "414c25f4",
   "metadata": {},
   "outputs": [],
   "source": [
    "bob = Keypair.create_from_uri('//Bob')"
   ]
  },
  {
   "cell_type": "code",
   "execution_count": 62,
   "id": "81f4d139",
   "metadata": {
    "scrolled": true
   },
   "outputs": [],
   "source": [
    "def addSchema(schema, check=True):\n",
    "    schemaId = -1\n",
    "    if check:\n",
    "        schema_count = substrate.query(\n",
    "            module='Schemas',\n",
    "            storage_function='SchemaCount',\n",
    "            params=[]\n",
    "        ).value\n",
    "\n",
    "        for i in range(1, schema_count+1):\n",
    "            schemaTemp = substrate.query(\n",
    "                module='Schemas',\n",
    "                storage_function='Schemas',\n",
    "                params=[i]\n",
    "            )\n",
    "            if schemaTemp == schema:\n",
    "                schemaId = i\n",
    "                return schemaId\n",
    "\n",
    "    if schemaId == -1:\n",
    "        receipt = make_call(\"Schemas\", \"register_schema\", {\"schema\": schema}, bob)\n",
    "        for event in receipt.triggered_events:\n",
    "            event = event.decode()\n",
    "            if event['event']['module_id'] == 'SchemaRegistered':\n",
    "                schemaId = event['event']['attributes'][1]\n",
    "                return schemaId"
   ]
  },
  {
   "cell_type": "code",
   "execution_count": 63,
   "id": "c42964a2",
   "metadata": {
    "scrolled": true
   },
   "outputs": [],
   "source": [
    "def get_msa_id(wallet, create=True, wait_for_inclusion=True, wait_for_finalization=True):\n",
    "    msa_key = substrate.query(\n",
    "        module='Msa',\n",
    "        storage_function='KeyInfoOf',\n",
    "        params=[wallet.ss58_address]\n",
    "    )\n",
    "    \n",
    "    if not create:\n",
    "        return None\n",
    "\n",
    "    if msa_key == None:\n",
    "        make_call(\"Msa\", \"create\", {}, wallet, wait_for_inclusion=wait_for_inclusion, wait_for_finalization=wait_for_finalization)\n",
    "        msa_key = substrate.query(\n",
    "            module='Msa',\n",
    "            storage_function='KeyInfoOf',\n",
    "            params=[wallet.ss58_address]\n",
    "        )\n",
    "\n",
    "    msa_id = msa_key['msa_id'].decode()\n",
    "    return msa_id"
   ]
  },
  {
   "cell_type": "code",
   "execution_count": 9,
   "id": "6bb755a3",
   "metadata": {},
   "outputs": [],
   "source": [
    "def get_signature(payload, signer):\n",
    "    # encode payload using SCALE\n",
    "    # I found scale_info from \"substrate.metadata_decoder\"\n",
    "    payload_encoded = substrate.encode_scale(type_string='scale_info::8', value=payload['authorized_msa_id']) + \\\n",
    "                            substrate.encode_scale(type_string='scale_info::2', value=payload['permission'])\n",
    "\n",
    "    # Payload must be wrapped in theses Bytes objects\n",
    "    payload_encoded = \"<Bytes>\".encode() + payload_encoded.data + \"</Bytes>\".encode()\n",
    "\n",
    "    # The provider address signs the payload, so in this case alice\n",
    "    return signer.sign(payload_encoded)"
   ]
  },
  {
   "cell_type": "code",
   "execution_count": 201,
   "id": "03a5c472",
   "metadata": {},
   "outputs": [],
   "source": [
    "def create_msa_with_delegator(provider_wallet, delegator_wallet):    \n",
    "    provider_msa_id = get_msa_id(provider_wallet)\n",
    "\n",
    "    payload_raw = { \"authorized_msa_id\": provider_msa_id, \"permission\": 0 }\n",
    "\n",
    "    signature = get_signature(payload_raw, delegator_wallet)\n",
    "\n",
    "    call_params = {\n",
    "        \"delegator_key\": delegator_wallet.ss58_address,\n",
    "        \"proof\": {\"Sr25519\": \"0x\" + signature.hex()},\n",
    "        \"add_provider_payload\": payload_raw\n",
    "    }\n",
    "\n",
    "    # provider signs this\n",
    "    receipt = make_call(\"Msa\", \"create_sponsored_account_with_delegation\", call_params, provider_wallet)\n",
    "    for event in receipt.triggered_events:\n",
    "        event = event.decode()\n",
    "        if event['event']['module_id'] == 'Msa':\n",
    "            msa_id = event['event']['attributes'][1]\n",
    "            return msa_id"
   ]
  },
  {
   "cell_type": "code",
   "execution_count": 16,
   "id": "32f8566f",
   "metadata": {},
   "outputs": [],
   "source": [
    "s = reddit.subreddit('all')"
   ]
  },
  {
   "cell_type": "code",
   "execution_count": 65,
   "id": "db9531fd",
   "metadata": {},
   "outputs": [],
   "source": [
    "def get_data(announcement):\n",
    "    data = f\"{str(announcement.subreddit)},{str(announcement.author.name)},{str(announcement.title)},{str(announcement.selftext)},{str(announcement.url)},{announcement.over_18}\"\n",
    "#     data_hash = substrateinterface.utils.hasher.xxh128(data)\n",
    "    return data"
   ]
  },
  {
   "cell_type": "code",
   "execution_count": 71,
   "id": "65f16300",
   "metadata": {},
   "outputs": [
    {
     "data": {
      "text/plain": [
       "'Yes, folks, this is really Rick Astley.\\n\\nNo, he will not be giving you up, letting you down, or... look, you get it.'"
      ]
     },
     "execution_count": 71,
     "metadata": {},
     "output_type": "execute_result"
    }
   ],
   "source": [
    "comment.body"
   ]
  },
  {
   "cell_type": "code",
   "execution_count": 68,
   "id": "940456e3",
   "metadata": {},
   "outputs": [
    {
     "name": "stderr",
     "output_type": "stream",
     "text": [
      "/home/chia/miniconda3/lib/python3.8/site-packages/ipfshttpclient/client/__init__.py:73: VersionMismatch: Unsupported daemon version '0.13.0' (not in range: 0.5.0 ≤ … < 0.9.0)\n",
      "  warnings.warn(exceptions.VersionMismatch(version, minimum, maximum))\n"
     ]
    }
   ],
   "source": [
    "import ipfshttpclient\n",
    "client = ipfshttpclient.connect()"
   ]
  },
  {
   "cell_type": "code",
   "execution_count": 75,
   "id": "159a6af4",
   "metadata": {},
   "outputs": [],
   "source": [
    "def mint_votes(announcement, parent_hash):\n",
    "    receipt_ups = None\n",
    "    receipt_downs = None\n",
    "    \n",
    "    if announcement.ups > 0:\n",
    "        call_params = {\n",
    "            \"on_behalf_of\": user_msa_id,\n",
    "            \"schema_id\": schemaId,\n",
    "            \"message\": f\",,{post_data_hash},{announcement.ups}\"\n",
    "        }\n",
    "        receipt_ups = make_call(\"Messages\", \"add\", call_params, bob, wait_for_inclusion=False, wait_for_finalization=False)\n",
    "    \n",
    "    if announcement.ups > 0:\n",
    "        call_params = {\n",
    "            \"on_behalf_of\": user_msa_id,\n",
    "            \"schema_id\": schemaId,\n",
    "            \"message\": f\",,{post_data_hash},-{announcement.downs}\"\n",
    "        }\n",
    "        receipt_downs = make_call(\"Messages\", \"add\", call_params, bob, wait_for_inclusion=False, wait_for_finalization=False)\n",
    "    \n",
    "    return receipt_ups, receipt_downs"
   ]
  },
  {
   "cell_type": "code",
   "execution_count": 183,
   "id": "668c00b5",
   "metadata": {},
   "outputs": [],
   "source": [
    "def mint_user(user):        \n",
    "    # create a wallet for user and check if they have an msa id yet\n",
    "    user_wallet = Keypair.create_from_uri('//' + user.name)\n",
    "    user_msa_id = get_msa_id(user_wallet, create=False)\n",
    "    \n",
    "    # if not then add a user using the schema\n",
    "    if user_msa_id is None:\n",
    "        user_msa_id = create_msa_with_delegator(bob, user_wallet)\n",
    "        user_data = f\"{user.name},{user.icon_img}\"\n",
    "        schema = f\"username,profile_pic\"\n",
    "        schemaId = addSchema(schema)\n",
    "        \n",
    "        call_params = {\n",
    "            \"on_behalf_of\": user_msa_id,\n",
    "            \"schema_id\": schemaId,\n",
    "            \"message\": user_data\n",
    "        }\n",
    "        receipt_user = make_call(\"Messages\", \"add\", call_params, bob, wait_for_inclusion=False, wait_for_finalization=False)\n",
    "    return user_msa_id"
   ]
  },
  {
   "cell_type": "code",
   "execution_count": 185,
   "id": "3f21250f",
   "metadata": {
    "scrolled": true
   },
   "outputs": [
    {
     "name": "stdout",
     "output_type": "stream",
     "text": [
      "Extrinsic '0xd467b1188c2d5a11b72e737703608c946319a81d77de3c330f3be71f27c886b8' sent and included in block '0x08202985c8e0008b1c5bf6c0d87a7340b2e480e9858891acec3dcf68b559292c'\n",
      "Extrinsic '0xdd8703021f52598148983eb2ca67dc1b818dce76b2ecabc291664e9d60782238' sent and included in block 'None'\n",
      "Extrinsic '0x68c44439526a09bf02a4aa88ecc9d7568f859f16c67b4bfee8583762026afbf9' sent and included in block 'None'\n",
      "QmbBVvyD9dSSs29p62JEJQooERCgbD5NM6PeZkRAQgVeHG\n",
      "Extrinsic '0x014aceabe8d5324cd1a783b1994585b4d32b44fea7c2d8ea91aa884cdf9da0fa' sent and included in block 'None'\n",
      "Extrinsic '0x2acf308d15ee6efc7726955c7513d3d7deda15ed40661f469a59499b3d9e6ee3' sent and included in block 'None'\n",
      "438829 0\n",
      "Extrinsic '0x48187d5d8b90c2d3bc288c7dc72145151e8af52e4e02b092ec8a18b639a3406b' sent and included in block '0x586260086a01c79bc8e6204011f044cdc9c10851819c4e7451f7b2f7c763f4bd'\n",
      "Extrinsic '0x6b756b5653a01996fdb00d84d84dfafe6b9ccf8fc07cf355dfd801ebfabf3f3f' sent and included in block 'None'\n",
      "Extrinsic '0xdbe6094d45cda97f1d9d63ccff40cf3f615e03f7299f29f4266854a1f4a19fe5' sent and included in block 'None'\n",
      "QmWPKZKYVFcmkPVV7sPq6zdeUEkxzQn8MoEsiHGoTgG5ma\n",
      "Extrinsic '0x74e5cac690510bae26cc382602983ced5bc8f857bb8cc64e9a50a057b76fb83c' sent and included in block 'None'\n",
      "Extrinsic '0xad8ed1ae8d2d21aef343d8e6f83c13b29a1dcf3bc78b3057cc35275ff8d15af3' sent and included in block 'None'\n",
      "1 0\n",
      "Extrinsic '0x4aa1cf17f645cff171fab3ba2fa42acb8fe767dc11e1169c39a6b8fbd709596f' sent and included in block '0xdc8938a5b49f79605be8fb94f7e8e3ea045241806514d36ec28f4335e5838fbc'\n",
      "Extrinsic '0x8dba353dfb8200b73930c8a96d2ea1ee181220dd7dbe10ce2f1d9fc87c53283b' sent and included in block 'None'\n",
      "Extrinsic '0x47df2b6d6bbc101540bc82ca3c88b3847a3675cd769682ed7fca124daf0a6107' sent and included in block 'None'\n",
      "QmZe1FABLn4m8Q1X4UyeR54RT92ziim9MXski6EoHUCKbc\n",
      "Extrinsic '0xf63160f8b1eedb31642bc5a1a972911b55c476e2d84d5b18d8cfbd04962a0703' sent and included in block 'None'\n",
      "Extrinsic '0xedb4fb336605893ed72cc439f200616ce30593f95f0949b403b994dc05e849cf' sent and included in block 'None'\n",
      "7396 0\n",
      "Extrinsic '0xbf014aa8fa38daa394fbf0f80595e780208bea3a2b22c6da5676d12118c5ad89' sent and included in block '0xdc683ed631c8e8540b72999b38900bbbdfdcc46ace777b0446825c0aab30415d'\n",
      "Extrinsic '0xb717a30780739a775a4e60ce9945f8b3fafdf4781661b2fe940f54bf90398ea6' sent and included in block 'None'\n",
      "Extrinsic '0xf73ebe06ad437ace4b8a632198356400111d8f6d35c298919d6cf399a9935cf9' sent and included in block 'None'\n",
      "QmbmA7ejRNxWEvbPf53uuqZGB34Hnqo5ga55BGJkJGFkv7\n",
      "Extrinsic '0x09352e4c6022cf86aee927974e1d69b55f98c007da1d33b70ba98eefc4651337' sent and included in block 'None'\n",
      "Extrinsic '0x8854cca653df30e9ea1bd95406a8ba1ecb9fc8020ddc119efea8d714ebe6c7ff' sent and included in block 'None'\n",
      "20332 0\n",
      "Extrinsic '0x9fbd8f6cef7e2cf21b353020f0dcd9aa0db8fe1c94d15b30b706b0237709701d' sent and included in block '0x2fa1cbeb926c636868f0553a8f08a87aed1dfe557facb17d936603e198a21305'\n",
      "Extrinsic '0x7ae4d9df76f9448c2da897ecfd31f75f229b8f2a15451c1bec6dea4db07fd270' sent and included in block 'None'\n",
      "Extrinsic '0x6fd88e1a9ef6584481c25874603f9e9e4ffccf9c936203ad456ff21df5503ce4' sent and included in block 'None'\n",
      "QmaY4vA5FNhw7Regv2RszN5FJoZDZRPLztP2qCijELJfTz\n",
      "Extrinsic '0xfe661768d181af892d21a9711f7d0572d49374447fa76cdfb4ad215ab16b7fde' sent and included in block 'None'\n",
      "Extrinsic '0xe00748ba356afc9423791281e43d26ed70d2b04fd0aa3be6ffa9fb7d7d3689b0' sent and included in block 'None'\n",
      "5428 0\n",
      "Extrinsic '0xda2f797e4f52eff533d09db7f3d4d721a1ac651c0ff05fc77ec80abfeb2199e4' sent and included in block '0x32351db4c9d2eba11c48359e3cd8677f2b7a875d49ae0e9ed861f0e2f79b2332'\n",
      "Extrinsic '0x8471ccf9c69142c95aa4751fd040dcbe7e834ead73fbbebb4ac5a80be5a767b9' sent and included in block 'None'\n",
      "Extrinsic '0xe858d91d3820cb81f77b8d95179a1b1321a6f85dbb7de47eb0d2b10d918ad67e' sent and included in block 'None'\n",
      "QmYRi3QTLRA5nmbxuJfZ5iW5YQfwCYRG9KBpfgEswbV9Xi\n",
      "Extrinsic '0x56e74b3c49d7250ea82efbfe51117ece28ac58c893997b9feecaa6b5c7f6730a' sent and included in block 'None'\n",
      "Extrinsic '0xfb568a854e52d90fc439347bedef055917adbd3ae8250a9dcb5dab4fd002a380' sent and included in block 'None'\n",
      "4797 0\n",
      "Extrinsic '0xd6c01340ce3f0f1a357cd663df842a8dd1b032cb2d24e72081e7d1230d6d7a21' sent and included in block '0xfe04f2ba4051fc4b7b3407a14a4c7cde211505f9d2f1bdc7da7c5a86e684169f'\n",
      "Extrinsic '0x8e2c9b71f66d5208c1de3b72d8d7e8ba6d7735615b4d94cecf7013e230db33aa' sent and included in block 'None'\n",
      "Extrinsic '0x98343fa4486ac5149dc994413c6a14a0c20b19c2d3aec9aaaddb7a31e1016e09' sent and included in block 'None'\n",
      "QmNQc1NfEcFzwjbeNJ4or6YfVqQ2LHdSGZuiPv2VWXcvpD\n",
      "Extrinsic '0xb5ec1cf0539c95bbcbdb4c0a1a5e85a126c962b4faa0e607b372103c270dbbea' sent and included in block 'None'\n",
      "Extrinsic '0xa3c12eb311c0aaea1f139bfd22ae4ace2ac9892470d359b855171a02f434833c' sent and included in block 'None'\n",
      "5807 0\n",
      "Extrinsic '0x04f69ff51fed12b364d13a312de4bd80909e173f272c1e57922971a2619e6446' sent and included in block '0xac29dcac5bfe491bfb64adfe472aed9fdcc64f15af06e5d895740f19d043e3b5'\n",
      "Extrinsic '0x02345e03f0fdeaeb8fb0dd6689fdbd978e66c6c386e6894a3c367462d64c2b3e' sent and included in block 'None'\n",
      "Extrinsic '0xe90dd41c05329755922b0d94fd6f33bc42923ab38a97a6457f6540cfc6377f50' sent and included in block 'None'\n",
      "QmdBX3spri86iVQiby4R1zUeArHEdQn7wNqR3H7LtqCHGS\n",
      "Extrinsic '0x2e811901264ad2937c294555e979cb084ff1c5fb23041c8de859a437029d1cb1' sent and included in block 'None'\n",
      "Extrinsic '0xf6dd96d59074688c2ff1ad275613dfa3366999d9d15b02b421b774d6c81d7313' sent and included in block 'None'\n",
      "11959 0\n",
      "Extrinsic '0x3125840ea776444b51766a75c622f90cb59fc9f36efabe74611f55b21a6a81f6' sent and included in block 'None'\n",
      "QmbbnbsdNaN5GVWjTGZQebgTR1CGVoatemNjdT2E95Lh4h\n",
      "Extrinsic '0x6a8e1d132954fadcfc16f13c3793345a855f6758f2d3c05e1192d161f1f81fca' sent and included in block 'None'\n",
      "Extrinsic '0xefcaf484a7a4954e57fea5fd9ad56ec7ac2fb92fdcaa8e635f580f6cf6c4eecd' sent and included in block 'None'\n",
      "37157 0\n",
      "Extrinsic '0x0ccf620cce00f96b2d36e26013b2cd06399274f2538813d0eb91674756a84ede' sent and included in block 'None'\n",
      "QmRAViV15g4gAqp7WCB5V7SsEH5QvXZtwSJjvkN3BMvq5k\n",
      "Extrinsic '0x6357b1005e6754cdc723a04c113e4596fd2b865ae2a9cc9b0873d5843761c52c' sent and included in block 'None'\n",
      "Extrinsic '0x8320b74fea0d060ec26f6be818abb97323c85ec3dc19f2489b41a8afa143155d' sent and included in block 'None'\n",
      "766 0\n",
      "Extrinsic '0x5fd5284cbb46e5b684b0e5c519ebbbb71a9bd0794ef2bf89d50e974a415905c0' sent and included in block '0x419c67dd4947925fabe6240dbd23f00ac00db58b3e8c6411ae76e31d116f269f'\n",
      "Extrinsic '0x67fba949cc1eac32ff31982fdeeffe73a9ea3eef511c26e466cc1de840b6cb96' sent and included in block 'None'\n",
      "Extrinsic '0x888da51074efb4ce2e30d509a167d5bb2281e5cab152d3291b040cf9b6535de2' sent and included in block 'None'\n",
      "QmZ86vocJAhtEV9LCrMDihDMDb7RQ2sDeSZJATzhDN5W9z\n",
      "Extrinsic '0x48644517510a36929b6dee865b75ce753d3c43d2d1354b51d7df25488dc653e8' sent and included in block 'None'\n",
      "Extrinsic '0x8dbfa7c490f2cea690391b8969ab22a614d236d1b5cccf30ae0ddadf7cdf0442' sent and included in block 'None'\n",
      "20828 0\n",
      "Extrinsic '0x84713260667cac49f0d6987fb55502bfe565b8bd51bc24855beb8fad9e94bd1c' sent and included in block '0x1e6c989971bb191803a11a8916a437e3f03421e9f25b50de3afaab0bdd26a0ff'\n",
      "Extrinsic '0x88736a2110a5f0f2db4e2ef6b0e3f23ee762e3e350145ddbb9a8ebca7062afba' sent and included in block 'None'\n",
      "Extrinsic '0xbcca60e1bbe3b4590df6b7ecc9c35cf97a74f55bddd241073304918b5efabd1c' sent and included in block '0x366e1f75dd50c80def9175109e2f24358817f9ab83eadacce8b91b9e52e09a71'\n"
     ]
    },
    {
     "ename": "TypeError",
     "evalue": "int() argument must be a string, a bytes-like object or a number, not 'NoneType'",
     "output_type": "error",
     "traceback": [
      "\u001b[0;31m---------------------------------------------------------------------------\u001b[0m",
      "\u001b[0;31mTypeError\u001b[0m                                 Traceback (most recent call last)",
      "Input \u001b[0;32mIn [185]\u001b[0m, in \u001b[0;36m<cell line: 1>\u001b[0;34m()\u001b[0m\n\u001b[1;32m     41\u001b[0m schemaId \u001b[38;5;241m=\u001b[39m addSchema(schema)\n\u001b[1;32m     43\u001b[0m call_params \u001b[38;5;241m=\u001b[39m {\n\u001b[1;32m     44\u001b[0m     \u001b[38;5;124m\"\u001b[39m\u001b[38;5;124mon_behalf_of\u001b[39m\u001b[38;5;124m\"\u001b[39m: user_msa_id,\n\u001b[1;32m     45\u001b[0m     \u001b[38;5;124m\"\u001b[39m\u001b[38;5;124mschema_id\u001b[39m\u001b[38;5;124m\"\u001b[39m: schemaId,\n\u001b[1;32m     46\u001b[0m     \u001b[38;5;124m\"\u001b[39m\u001b[38;5;124mmessage\u001b[39m\u001b[38;5;124m\"\u001b[39m: \u001b[38;5;124mf\u001b[39m\u001b[38;5;124m\"\u001b[39m\u001b[38;5;124m,,,\u001b[39m\u001b[38;5;132;01m{\u001b[39;00mpost_data_hash\u001b[38;5;132;01m}\u001b[39;00m\u001b[38;5;124m\"\u001b[39m\n\u001b[1;32m     47\u001b[0m }\n\u001b[0;32m---> 48\u001b[0m receipt_post \u001b[38;5;241m=\u001b[39m \u001b[43mmake_call\u001b[49m\u001b[43m(\u001b[49m\u001b[38;5;124;43m\"\u001b[39;49m\u001b[38;5;124;43mMessages\u001b[39;49m\u001b[38;5;124;43m\"\u001b[39;49m\u001b[43m,\u001b[49m\u001b[43m \u001b[49m\u001b[38;5;124;43m\"\u001b[39;49m\u001b[38;5;124;43madd\u001b[39;49m\u001b[38;5;124;43m\"\u001b[39;49m\u001b[43m,\u001b[49m\u001b[43m \u001b[49m\u001b[43mcall_params\u001b[49m\u001b[43m,\u001b[49m\u001b[43m \u001b[49m\u001b[43mbob\u001b[49m\u001b[43m,\u001b[49m\u001b[43m \u001b[49m\u001b[43mwait_for_inclusion\u001b[49m\u001b[38;5;241;43m=\u001b[39;49m\u001b[38;5;28;43;01mFalse\u001b[39;49;00m\u001b[43m,\u001b[49m\u001b[43m \u001b[49m\u001b[43mwait_for_finalization\u001b[49m\u001b[38;5;241;43m=\u001b[39;49m\u001b[38;5;28;43;01mFalse\u001b[39;49;00m\u001b[43m)\u001b[49m\n\u001b[1;32m     49\u001b[0m \u001b[38;5;28mprint\u001b[39m(post_data_hash)\n\u001b[1;32m     51\u001b[0m \u001b[38;5;66;03m## post votes ##\u001b[39;00m\n",
      "Input \u001b[0;32mIn [61]\u001b[0m, in \u001b[0;36mmake_call\u001b[0;34m(call_module, call_function, call_params, keypair, wait_for_inclusion, wait_for_finalization)\u001b[0m\n\u001b[1;32m      2\u001b[0m \u001b[38;5;28;01mdef\u001b[39;00m \u001b[38;5;21mmake_call\u001b[39m(call_module, call_function, call_params, keypair, wait_for_inclusion\u001b[38;5;241m=\u001b[39m\u001b[38;5;28;01mTrue\u001b[39;00m, wait_for_finalization\u001b[38;5;241m=\u001b[39m\u001b[38;5;28;01mFalse\u001b[39;00m):\n\u001b[0;32m----> 3\u001b[0m     call \u001b[38;5;241m=\u001b[39m \u001b[43msubstrate\u001b[49m\u001b[38;5;241;43m.\u001b[39;49m\u001b[43mcompose_call\u001b[49m\u001b[43m(\u001b[49m\n\u001b[1;32m      4\u001b[0m \u001b[43m        \u001b[49m\u001b[43mcall_module\u001b[49m\u001b[38;5;241;43m=\u001b[39;49m\u001b[43mcall_module\u001b[49m\u001b[43m,\u001b[49m\u001b[43m  \u001b[49m\n\u001b[1;32m      5\u001b[0m \u001b[43m        \u001b[49m\u001b[43mcall_function\u001b[49m\u001b[38;5;241;43m=\u001b[39;49m\u001b[43mcall_function\u001b[49m\u001b[43m,\u001b[49m\n\u001b[1;32m      6\u001b[0m \u001b[43m        \u001b[49m\u001b[43mcall_params\u001b[49m\u001b[38;5;241;43m=\u001b[39;49m\u001b[43mcall_params\u001b[49m\n\u001b[1;32m      7\u001b[0m \u001b[43m    \u001b[49m\u001b[43m)\u001b[49m\n\u001b[1;32m      9\u001b[0m     extrinsic \u001b[38;5;241m=\u001b[39m substrate\u001b[38;5;241m.\u001b[39mcreate_signed_extrinsic(call\u001b[38;5;241m=\u001b[39mcall, keypair\u001b[38;5;241m=\u001b[39mkeypair)\n\u001b[1;32m     11\u001b[0m     \u001b[38;5;28;01mtry\u001b[39;00m:\n",
      "File \u001b[0;32m~/miniconda3/lib/python3.8/site-packages/substrateinterface/base.py:1622\u001b[0m, in \u001b[0;36mSubstrateInterface.compose_call\u001b[0;34m(self, call_module, call_function, call_params, block_hash)\u001b[0m\n\u001b[1;32m   1616\u001b[0m \u001b[38;5;28mself\u001b[39m\u001b[38;5;241m.\u001b[39minit_runtime(block_hash\u001b[38;5;241m=\u001b[39mblock_hash)\n\u001b[1;32m   1618\u001b[0m call \u001b[38;5;241m=\u001b[39m \u001b[38;5;28mself\u001b[39m\u001b[38;5;241m.\u001b[39mruntime_config\u001b[38;5;241m.\u001b[39mcreate_scale_object(\n\u001b[1;32m   1619\u001b[0m     type_string\u001b[38;5;241m=\u001b[39m\u001b[38;5;124m'\u001b[39m\u001b[38;5;124mCall\u001b[39m\u001b[38;5;124m'\u001b[39m, metadata\u001b[38;5;241m=\u001b[39m\u001b[38;5;28mself\u001b[39m\u001b[38;5;241m.\u001b[39mmetadata_decoder\n\u001b[1;32m   1620\u001b[0m )\n\u001b[0;32m-> 1622\u001b[0m \u001b[43mcall\u001b[49m\u001b[38;5;241;43m.\u001b[39;49m\u001b[43mencode\u001b[49m\u001b[43m(\u001b[49m\u001b[43m{\u001b[49m\n\u001b[1;32m   1623\u001b[0m \u001b[43m    \u001b[49m\u001b[38;5;124;43m'\u001b[39;49m\u001b[38;5;124;43mcall_module\u001b[39;49m\u001b[38;5;124;43m'\u001b[39;49m\u001b[43m:\u001b[49m\u001b[43m \u001b[49m\u001b[43mcall_module\u001b[49m\u001b[43m,\u001b[49m\n\u001b[1;32m   1624\u001b[0m \u001b[43m    \u001b[49m\u001b[38;5;124;43m'\u001b[39;49m\u001b[38;5;124;43mcall_function\u001b[39;49m\u001b[38;5;124;43m'\u001b[39;49m\u001b[43m:\u001b[49m\u001b[43m \u001b[49m\u001b[43mcall_function\u001b[49m\u001b[43m,\u001b[49m\n\u001b[1;32m   1625\u001b[0m \u001b[43m    \u001b[49m\u001b[38;5;124;43m'\u001b[39;49m\u001b[38;5;124;43mcall_args\u001b[39;49m\u001b[38;5;124;43m'\u001b[39;49m\u001b[43m:\u001b[49m\u001b[43m \u001b[49m\u001b[43mcall_params\u001b[49m\n\u001b[1;32m   1626\u001b[0m \u001b[43m\u001b[49m\u001b[43m}\u001b[49m\u001b[43m)\u001b[49m\n\u001b[1;32m   1628\u001b[0m \u001b[38;5;28;01mreturn\u001b[39;00m call\n",
      "File \u001b[0;32m~/miniconda3/lib/python3.8/site-packages/scalecodec/base.py:709\u001b[0m, in \u001b[0;36mScaleDecoder.encode\u001b[0;34m(self, value)\u001b[0m\n\u001b[1;32m    706\u001b[0m     \u001b[38;5;28mself\u001b[39m\u001b[38;5;241m.\u001b[39mvalue_serialized \u001b[38;5;241m=\u001b[39m value\n\u001b[1;32m    707\u001b[0m     \u001b[38;5;28mself\u001b[39m\u001b[38;5;241m.\u001b[39mdecoded \u001b[38;5;241m=\u001b[39m \u001b[38;5;28;01mTrue\u001b[39;00m\n\u001b[0;32m--> 709\u001b[0m \u001b[38;5;28mself\u001b[39m\u001b[38;5;241m.\u001b[39mdata \u001b[38;5;241m=\u001b[39m \u001b[38;5;28;43mself\u001b[39;49m\u001b[38;5;241;43m.\u001b[39;49m\u001b[43mprocess_encode\u001b[49m\u001b[43m(\u001b[49m\u001b[38;5;28;43mself\u001b[39;49m\u001b[38;5;241;43m.\u001b[39;49m\u001b[43mvalue_serialized\u001b[49m\u001b[43m)\u001b[49m\n\u001b[1;32m    711\u001b[0m \u001b[38;5;28;01mif\u001b[39;00m \u001b[38;5;28mself\u001b[39m\u001b[38;5;241m.\u001b[39mvalue_object \u001b[38;5;129;01mis\u001b[39;00m \u001b[38;5;28;01mNone\u001b[39;00m:\n\u001b[1;32m    712\u001b[0m     \u001b[38;5;28mself\u001b[39m\u001b[38;5;241m.\u001b[39mvalue_object \u001b[38;5;241m=\u001b[39m \u001b[38;5;28mself\u001b[39m\u001b[38;5;241m.\u001b[39mvalue_serialized\n",
      "File \u001b[0;32m~/miniconda3/lib/python3.8/site-packages/scalecodec/types.py:1439\u001b[0m, in \u001b[0;36mGenericCall.process_encode\u001b[0;34m(self, value)\u001b[0m\n\u001b[1;32m   1433\u001b[0m             param_value \u001b[38;5;241m=\u001b[39m value[\u001b[38;5;124m'\u001b[39m\u001b[38;5;124mcall_args\u001b[39m\u001b[38;5;124m'\u001b[39m][arg\u001b[38;5;241m.\u001b[39mvalue[\u001b[38;5;124m'\u001b[39m\u001b[38;5;124mname\u001b[39m\u001b[38;5;124m'\u001b[39m]]\n\u001b[1;32m   1435\u001b[0m             arg_obj \u001b[38;5;241m=\u001b[39m \u001b[38;5;28mself\u001b[39m\u001b[38;5;241m.\u001b[39mruntime_config\u001b[38;5;241m.\u001b[39mcreate_scale_object(\n\u001b[1;32m   1436\u001b[0m                 type_string\u001b[38;5;241m=\u001b[39marg\u001b[38;5;241m.\u001b[39mget_type_string(),\n\u001b[1;32m   1437\u001b[0m                 metadata\u001b[38;5;241m=\u001b[39m\u001b[38;5;28mself\u001b[39m\u001b[38;5;241m.\u001b[39mmetadata\n\u001b[1;32m   1438\u001b[0m             )\n\u001b[0;32m-> 1439\u001b[0m             data \u001b[38;5;241m+\u001b[39m\u001b[38;5;241m=\u001b[39m \u001b[43marg_obj\u001b[49m\u001b[38;5;241;43m.\u001b[39;49m\u001b[43mencode\u001b[49m\u001b[43m(\u001b[49m\u001b[43mparam_value\u001b[49m\u001b[43m)\u001b[49m\n\u001b[1;32m   1441\u001b[0m             \u001b[38;5;28mself\u001b[39m\u001b[38;5;241m.\u001b[39mvalue_object[\u001b[38;5;124m'\u001b[39m\u001b[38;5;124mcall_args\u001b[39m\u001b[38;5;124m'\u001b[39m][arg\u001b[38;5;241m.\u001b[39mvalue[\u001b[38;5;124m'\u001b[39m\u001b[38;5;124mname\u001b[39m\u001b[38;5;124m'\u001b[39m]] \u001b[38;5;241m=\u001b[39m arg_obj\n\u001b[1;32m   1443\u001b[0m \u001b[38;5;28mself\u001b[39m\u001b[38;5;241m.\u001b[39mcall_hash \u001b[38;5;241m=\u001b[39m blake2b(data\u001b[38;5;241m.\u001b[39mdata, digest_size\u001b[38;5;241m=\u001b[39m\u001b[38;5;241m32\u001b[39m)\u001b[38;5;241m.\u001b[39mdigest()\n",
      "File \u001b[0;32m~/miniconda3/lib/python3.8/site-packages/scalecodec/base.py:709\u001b[0m, in \u001b[0;36mScaleDecoder.encode\u001b[0;34m(self, value)\u001b[0m\n\u001b[1;32m    706\u001b[0m     \u001b[38;5;28mself\u001b[39m\u001b[38;5;241m.\u001b[39mvalue_serialized \u001b[38;5;241m=\u001b[39m value\n\u001b[1;32m    707\u001b[0m     \u001b[38;5;28mself\u001b[39m\u001b[38;5;241m.\u001b[39mdecoded \u001b[38;5;241m=\u001b[39m \u001b[38;5;28;01mTrue\u001b[39;00m\n\u001b[0;32m--> 709\u001b[0m \u001b[38;5;28mself\u001b[39m\u001b[38;5;241m.\u001b[39mdata \u001b[38;5;241m=\u001b[39m \u001b[38;5;28;43mself\u001b[39;49m\u001b[38;5;241;43m.\u001b[39;49m\u001b[43mprocess_encode\u001b[49m\u001b[43m(\u001b[49m\u001b[38;5;28;43mself\u001b[39;49m\u001b[38;5;241;43m.\u001b[39;49m\u001b[43mvalue_serialized\u001b[49m\u001b[43m)\u001b[49m\n\u001b[1;32m    711\u001b[0m \u001b[38;5;28;01mif\u001b[39;00m \u001b[38;5;28mself\u001b[39m\u001b[38;5;241m.\u001b[39mvalue_object \u001b[38;5;129;01mis\u001b[39;00m \u001b[38;5;28;01mNone\u001b[39;00m:\n\u001b[1;32m    712\u001b[0m     \u001b[38;5;28mself\u001b[39m\u001b[38;5;241m.\u001b[39mvalue_object \u001b[38;5;241m=\u001b[39m \u001b[38;5;28mself\u001b[39m\u001b[38;5;241m.\u001b[39mvalue_serialized\n",
      "File \u001b[0;32m~/miniconda3/lib/python3.8/site-packages/scalecodec/types.py:290\u001b[0m, in \u001b[0;36mU16.process_encode\u001b[0;34m(self, value)\u001b[0m\n\u001b[1;32m    288\u001b[0m \u001b[38;5;28;01mdef\u001b[39;00m \u001b[38;5;21mprocess_encode\u001b[39m(\u001b[38;5;28mself\u001b[39m, value):\n\u001b[0;32m--> 290\u001b[0m     \u001b[38;5;28;01mif\u001b[39;00m \u001b[38;5;241m0\u001b[39m \u001b[38;5;241m<\u001b[39m\u001b[38;5;241m=\u001b[39m \u001b[38;5;28;43mint\u001b[39;49m\u001b[43m(\u001b[49m\u001b[43mvalue\u001b[49m\u001b[43m)\u001b[49m \u001b[38;5;241m<\u001b[39m\u001b[38;5;241m=\u001b[39m \u001b[38;5;241m2\u001b[39m\u001b[38;5;241m*\u001b[39m\u001b[38;5;241m*\u001b[39m\u001b[38;5;241m16\u001b[39m \u001b[38;5;241m-\u001b[39m \u001b[38;5;241m1\u001b[39m:\n\u001b[1;32m    291\u001b[0m         \u001b[38;5;28;01mreturn\u001b[39;00m ScaleBytes(\u001b[38;5;28mbytearray\u001b[39m(\u001b[38;5;28mint\u001b[39m(value)\u001b[38;5;241m.\u001b[39mto_bytes(\u001b[38;5;241m2\u001b[39m, \u001b[38;5;124m'\u001b[39m\u001b[38;5;124mlittle\u001b[39m\u001b[38;5;124m'\u001b[39m)))\n\u001b[1;32m    292\u001b[0m     \u001b[38;5;28;01melse\u001b[39;00m:\n",
      "\u001b[0;31mTypeError\u001b[0m: int() argument must be a string, a bytes-like object or a number, not 'NoneType'"
     ]
    }
   ],
   "source": [
    "for i, post in enumerate(s.top()):\n",
    "    ## USER ##\n",
    "    user_msa_id = mint_user(post.author)\n",
    "    if user_msa_id is None:\n",
    "        user_msa_id = 1\n",
    "        username = \"removed\"\n",
    "        profile_pic = \"removed\"\n",
    "    else:\n",
    "        username = post.author.name\n",
    "        profile_pic = post.author.icon_img\n",
    "    \n",
    "    ## POST ##\n",
    "    post_data = {\n",
    "        \"category\": post.subreddit.display_name,\n",
    "        \"username\": username,\n",
    "        \"profile_pic\": profile_pic,\n",
    "        \"title\": post.title,\n",
    "        \"body\": post.selftext,\n",
    "        \"url\": post.url,\n",
    "        \"is_nsfw\": post.over_18\n",
    "    }\n",
    "    \n",
    "    # use hash to check if we already added this post to the blockchain\n",
    "    # if so then skip\n",
    "    data_files = [f for f in listdir(\"./posts\") if isfile(join(\"./posts\", f))]\n",
    "    if f\"./data/{post.name}.txt\" in data_files:\n",
    "        continue\n",
    "    \n",
    "    json.dump(post_data, open(f\"./posts/{post.name}.json\", \"w\"))\n",
    "    res_post = client.add(f\"./posts/{post.name}.json\")\n",
    "    post_data_hash = res_post[\"Hash\"]\n",
    "    \n",
    "    # create a schema for all children to use that includes post_hash in order to make easier querying\n",
    "    # Note: post's will always have parent_hash as null, comments on posts will always have parent_hash as\n",
    "    # post_data_hash and comments on comments will have their parent comment_data_hash as parent_hash\n",
    "    schema = f\"{post.subreddit},{post_data_hash},parent_hash,data_hash\"\n",
    "    schemaId = addSchema(schema)\n",
    "    \n",
    "    call_params = {\n",
    "        \"on_behalf_of\": user_msa_id,\n",
    "        \"schema_id\": schemaId,\n",
    "        \"message\": f\",,,{post_data_hash}\"\n",
    "    }\n",
    "    receipt_post = make_call(\"Messages\", \"add\", call_params, bob, wait_for_inclusion=False, wait_for_finalization=False)\n",
    "    print(post_data_hash)\n",
    "    \n",
    "    ## post votes ##\n",
    "    receipt_ups, receipt_downs = mint_votes(post, post_data_hash)\n",
    "    print(post.ups, post.downs)\n",
    "    \n",
    "    ## COMMENT ##\n",
    "    id_to_hash = {}\n",
    "    for comment in post.comments.list()[:10]:        \n",
    "        comment_user_msa_id = mint_user(comment.author)\n",
    "        if comment_user_msa_id is None:\n",
    "            comment_user_msa_id = 1\n",
    "            username = \"removed\"\n",
    "            profile_pic = \"removed\"\n",
    "        else:\n",
    "            username = post.author.name\n",
    "            profile_pic = post.author.icon_img\n",
    "               \n",
    "        comment_data = {\n",
    "            \"parent_hash\": post_data_hash,\n",
    "            \"username\": username,\n",
    "            \"profile_pic\": profile_pic,\n",
    "            \"body\": comment.body,\n",
    "        }\n",
    "        json.dump(comment_data, open(f\"./comments/{comment.name}.json\", \"w\"))\n",
    "        res_comment = client.add(f\"./comments/{comment.name}.json\")\n",
    "        comment_data_hash = res_comment['Hash']\n",
    "        if comment.parent_id == post.name:\n",
    "            parent_hash = post_data_hash\n",
    "        else:\n",
    "            parent_hash = id_to_hash[comment.parent_id]\n",
    "            \n",
    "        id_to_hash = {comment.id: comment_data_hash}\n",
    "        message_comment = f\",,{parent_hash},{comment_data_hash}\"\n",
    "            \n",
    "        call_params = {\n",
    "            \"on_behalf_of\": comment_user_msa_id,\n",
    "            \"schema_id\": schemaId,\n",
    "            \"message\": message_comment\n",
    "        }\n",
    "        receipt_comment = make_call(\"Messages\", \"add\", call_params, bob, wait_for_inclusion=False, wait_for_finalization=False)\n",
    "        print(comment_data_hash)\n",
    "        \n",
    "        ## comment votes ##\n",
    "        receipt_ups, receipt_downs = mint_votes(comment, comment_data_hash)\n",
    "        print(comment.ups, comment.downs)\n",
    "            \n",
    "# print(\"waiting...\")\n",
    "# print()\n",
    "# # sleep for a bit and then check again\n",
    "# time.sleep(60*10)"
   ]
  },
  {
   "cell_type": "code",
   "execution_count": 186,
   "id": "2ee358f6",
   "metadata": {},
   "outputs": [],
   "source": [
    "user_msa_id"
   ]
  },
  {
   "cell_type": "code",
   "execution_count": 170,
   "id": "3aa72401",
   "metadata": {},
   "outputs": [
    {
     "data": {
      "text/plain": [
       "'pics'"
      ]
     },
     "execution_count": 170,
     "metadata": {},
     "output_type": "execute_result"
    }
   ],
   "source": [
    "post.subreddit.display_name"
   ]
  },
  {
   "cell_type": "code",
   "execution_count": 161,
   "id": "db21e9ce",
   "metadata": {},
   "outputs": [
    {
     "data": {
      "text/plain": [
       "\"Haha! That's so adorable.\""
      ]
     },
     "execution_count": 161,
     "metadata": {},
     "output_type": "execute_result"
    }
   ],
   "source": [
    "comment.body"
   ]
  },
  {
   "cell_type": "code",
   "execution_count": 86,
   "id": "f9d52087",
   "metadata": {},
   "outputs": [],
   "source": [
    "import re"
   ]
  },
  {
   "cell_type": "code",
   "execution_count": 112,
   "id": "f1405023",
   "metadata": {},
   "outputs": [],
   "source": [
    "post_pattern = re.compile(r\".*,.*,parent_hash,data_hash\")"
   ]
  },
  {
   "cell_type": "code",
   "execution_count": 187,
   "id": "2f183524",
   "metadata": {},
   "outputs": [
    {
     "name": "stdout",
     "output_type": "stream",
     "text": [
      "username,profile_pic\n",
      "pics,QmVbFm5mNfgk1o4e6tuhRDrygWhynnabq9aQfcZSW42RPY,parent_hash,data_hash\n",
      "wallstreetbets,QmYwaTsoKb6jF8y5AGresVKj5LzypWZPWGwyzyeSgVYjy4,parent_hash,data_hash\n",
      "news,QmZRYUyrppGsDPDB2Q9wqyfJAtPkWKbTkSs9FasxGLpvi7,parent_hash,data_hash\n",
      "movies,QmdfkFFtwxGyZaLw7teURyuxGmzpPxLjZrUYSYUfT874VL,parent_hash,data_hash\n",
      "funny,Qmf943KpByMd3Bz6j2QG4CppVHgG2SV93u7wzHwyiMGVVL,parent_hash,data_hash\n",
      "wallstreetbets,QmdZZ1RcE7z8eiqS4e687qm9gbsGZBsAGYsbpBr1xMsMyv,parent_hash,data_hash\n",
      "memes,QmUm4yRmjbgyjeeKukuGPkYiZJRB1KeR9J1u7vWLus9j2w,parent_hash,data_hash\n",
      "funny,QmTLrPfhVysDXEsUZdqz7GYZ6xF1Xy7FL7SUDeb2SxaejQ,parent_hash,data_hash\n",
      "aww,QmUJxZmYJhZDoJFS1vcEv86kXtjN1rSym9Ywh7QtfBLzZC,parent_hash,data_hash\n",
      "wallstreetbets,QmYpWJBnpnyZmvQpp4XyHtbtnKLP9VG9hwUchUmrXTwMq6,parent_hash,data_hash\n",
      "pics,Qmd8ZYMiWohnEpEW2SQjTsFJZaj1HfnBeUENBkM4hAqASV,parent_hash,data_hash\n",
      "memes,QmRcBBbh54LN1tVzjX4aKC6skNPgC8rj1sup3SkLWZSLwr,parent_hash,data_hash\n",
      "gaming,QmZsjUdDvXffGETG6oVAwtJFRs7jmnG4vaFRbpP1sRn9HD,parent_hash,data_hash\n",
      "gifs,QmRMwmCptXLTH8Fr1tdu3nQFnQtsMW1SoCB9EbaqByBYjT,parent_hash,data_hash\n",
      "pics,QmQQVf9veaHmsox6QCG2SbJooHH8TupeEssotEW68SrdDq,parent_hash,data_hash\n",
      "aww,QmQxkc5rj7BcqnqRwBkaJ6HpicEhbxrJVjCeN2GJyRXT7f,parent_hash,data_hash\n",
      "pics,QmYoxgA2BdtPNTE6QP1G8bhNgojpKiFTyDRRTahf5NPsWM,parent_hash,data_hash\n",
      "memes,QmZSwp2E8S4dM7pm1tvyHc8fGjdcxf4qyBaavZSjTUxMbw,parent_hash,data_hash\n",
      "wallstreetbets,Qmd9KwBhC51TNHgsZ1bctbMX312McZW1M4geyw3nchMB9d,parent_hash,data_hash\n",
      "memes,Qmey87YYtEpzshPapjzNFsL3e6tP7bPoV8dkpD2g8dSEEq,parent_hash,data_hash\n",
      "aww,QmXD49PTN5orPG1m5cZkkPQKNUQrWKXojUGwwdogh4JVbV,parent_hash,data_hash\n",
      "pics,QmNdFf3FX3Mf4KBxbo1QoVxw1Ppf1cPAP53ryTP4cZpNcc,parent_hash,data_hash\n",
      "pics,QmYcBmVugkFK4REQWQ2LFQgMBKvLf5CswgMCeByuMwuiS8,parent_hash,data_hash\n",
      "pics,QmbBVvyD9dSSs29p62JEJQooERCgbD5NM6PeZkRAQgVeHG,parent_hash,data_hash\n",
      "wallstreetbets,QmVkX8MLkvNqGxHDFzDxvHPrE1BbcsHqXcHsP4rSnPhkdv,parent_hash,data_hash\n"
     ]
    }
   ],
   "source": [
    "schema_count = substrate.query(\n",
    "    module='Schemas',\n",
    "    storage_function='SchemaCount',\n",
    "    params=[]\n",
    ").value\n",
    "\n",
    "post_schemas = []\n",
    "for i in range(1, schema_count+1):\n",
    "    schemaTemp = substrate.query(\n",
    "        module='Schemas',\n",
    "        storage_function='Schemas',\n",
    "        params=[i]\n",
    "    )\n",
    "    print(schemaTemp.value)\n",
    "    if post_pattern.match(schemaTemp.value):\n",
    "        post_schemas.append(i)"
   ]
  },
  {
   "cell_type": "code",
   "execution_count": 188,
   "id": "a6940080",
   "metadata": {},
   "outputs": [
    {
     "data": {
      "text/plain": [
       "<scale_info::192(value=pics,QmVbFm5mNfgk1o4e6tuhRDrygWhynnabq9aQfcZSW42RPY,parent_hash,data_hash)>"
      ]
     },
     "execution_count": 188,
     "metadata": {},
     "output_type": "execute_result"
    }
   ],
   "source": [
    "substrate.query(\n",
    "        module='Schemas',\n",
    "        storage_function='Schemas',\n",
    "        params=[2]\n",
    "    )"
   ]
  },
  {
   "cell_type": "code",
   "execution_count": 189,
   "id": "58f78ede",
   "metadata": {
    "scrolled": true
   },
   "outputs": [
    {
     "data": {
      "text/plain": [
       "[2,\n",
       " 3,\n",
       " 4,\n",
       " 5,\n",
       " 6,\n",
       " 7,\n",
       " 8,\n",
       " 9,\n",
       " 10,\n",
       " 11,\n",
       " 12,\n",
       " 13,\n",
       " 14,\n",
       " 15,\n",
       " 16,\n",
       " 17,\n",
       " 18,\n",
       " 19,\n",
       " 20,\n",
       " 21,\n",
       " 22,\n",
       " 23,\n",
       " 24,\n",
       " 25,\n",
       " 26]"
      ]
     },
     "execution_count": 189,
     "metadata": {},
     "output_type": "execute_result"
    }
   ],
   "source": [
    "post_schemas"
   ]
  },
  {
   "cell_type": "code",
   "execution_count": 149,
   "id": "8b9963e3",
   "metadata": {},
   "outputs": [
    {
     "name": "stdout",
     "output_type": "stream",
     "text": [
      "Extrinsic '0x96644cec781cff1fb7e8a30e80d067b1e94288810381fbf38a9ed179448ff433' sent and included in block '0x3df775753aeec957cc6eca02250b3e554489eea4c0308310d8fa4291b8e6da54'\n"
     ]
    }
   ],
   "source": [
    "receipt_post = make_call(\"Messages\", \"add\", call_params, bob, wait_for_inclusion=True, wait_for_finalization=True)"
   ]
  },
  {
   "cell_type": "code",
   "execution_count": 151,
   "id": "5f5f549a",
   "metadata": {},
   "outputs": [
    {
     "data": {
      "text/plain": [
       "<GenericExtrinsic(value={'extrinsic_hash': '0x96644cec781cff1fb7e8a30e80d067b1e94288810381fbf38a9ed179448ff433', 'extrinsic_length': 282, 'address': '5FHneW46xGXgs5mUiveU4sbTyGBzmstUspZC92UhjJM694ty', 'signature': {'Sr25519': '0x5e5c076057277f4c35837be52ab420a2b679b4b435f32ce88487f88126ece42b7317a68a20cab1642584f644d7d3243bf5f1e703dbec69b449123f1baa316589'}, 'era': '00', 'nonce': 1367, 'tip': 0, 'call': {'call_index': '0x2300', 'call_function': 'add', 'call_module': 'Messages', 'call_args': [{'name': 'on_behalf_of', 'type': 'Option<MessageSenderId>', 'value': None}, {'name': 'schema_id', 'type': 'SchemaId', 'value': 1}, {'name': 'message', 'type': 'Bytes', 'value': 't2_5us3ezxh,https://styles.redditmedia.com/t5_2h0t0p/styles/profileIcon_nd6y7901m0o61.png?width=256&height=256&crop=256:256,smart&s=b580963fb4ea92e9ac4b673ddab43fec3b46220b'}], 'call_hash': '0x9173457f3f7e7bc68d587a890e3f842c3ca0487bf3c76c72d0b2bdc0a3d6a237'}})>"
      ]
     },
     "execution_count": 151,
     "metadata": {},
     "output_type": "execute_result"
    }
   ],
   "source": [
    "receipt_post.extrinsic"
   ]
  },
  {
   "cell_type": "code",
   "execution_count": 157,
   "id": "88eac7e9",
   "metadata": {},
   "outputs": [
    {
     "name": "stdout",
     "output_type": "stream",
     "text": [
      "{'jsonrpc': '2.0', 'result': {'content': [], 'has_next': False}, 'id': 13736}\n"
     ]
    }
   ],
   "source": [
    "params = [\n",
    "    2,\n",
    "    {\n",
    "        \"page_size\": 10000,\n",
    "        \"from_block\": 0,\n",
    "        \"to_block\": 10000,\n",
    "        \"from_index\": 0,\n",
    "    }\n",
    "]\n",
    "\n",
    "data = substrate.rpc_request(\n",
    "    method='messages_getBySchema',\n",
    "    params=params,\n",
    ")\n",
    "print(data)"
   ]
  },
  {
   "cell_type": "code",
   "execution_count": 190,
   "id": "a1ee26be",
   "metadata": {
    "scrolled": true
   },
   "outputs": [
    {
     "name": "stdout",
     "output_type": "stream",
     "text": [
      "{'jsonrpc': '2.0', 'result': {'content': [], 'has_next': False}, 'id': 14986}\n",
      "{'jsonrpc': '2.0', 'result': {'content': [], 'has_next': False}, 'id': 14987}\n",
      "{'jsonrpc': '2.0', 'result': {'content': [], 'has_next': False}, 'id': 14988}\n",
      "{'jsonrpc': '2.0', 'result': {'content': [], 'has_next': False}, 'id': 14989}\n",
      "{'jsonrpc': '2.0', 'result': {'content': [], 'has_next': False}, 'id': 14990}\n",
      "{'jsonrpc': '2.0', 'result': {'content': [], 'has_next': False}, 'id': 14991}\n",
      "{'jsonrpc': '2.0', 'result': {'content': [], 'has_next': False}, 'id': 14992}\n",
      "{'jsonrpc': '2.0', 'result': {'content': [], 'has_next': False}, 'id': 14993}\n",
      "{'jsonrpc': '2.0', 'result': {'content': [], 'has_next': False}, 'id': 14994}\n",
      "{'jsonrpc': '2.0', 'result': {'content': [], 'has_next': False}, 'id': 14995}\n",
      "{'jsonrpc': '2.0', 'result': {'content': [], 'has_next': False}, 'id': 14996}\n",
      "{'jsonrpc': '2.0', 'result': {'content': [], 'has_next': False}, 'id': 14997}\n",
      "{'jsonrpc': '2.0', 'result': {'content': [], 'has_next': False}, 'id': 14998}\n",
      "{'jsonrpc': '2.0', 'result': {'content': [], 'has_next': False}, 'id': 14999}\n",
      "{'jsonrpc': '2.0', 'result': {'content': [], 'has_next': False}, 'id': 15000}\n",
      "{'jsonrpc': '2.0', 'result': {'content': [], 'has_next': False}, 'id': 15001}\n",
      "{'jsonrpc': '2.0', 'result': {'content': [], 'has_next': False}, 'id': 15002}\n",
      "{'jsonrpc': '2.0', 'result': {'content': [], 'has_next': False}, 'id': 15003}\n",
      "{'jsonrpc': '2.0', 'result': {'content': [], 'has_next': False}, 'id': 15004}\n",
      "{'jsonrpc': '2.0', 'result': {'content': [], 'has_next': False}, 'id': 15005}\n",
      "{'jsonrpc': '2.0', 'result': {'content': [], 'has_next': False}, 'id': 15006}\n",
      "{'jsonrpc': '2.0', 'result': {'content': [], 'has_next': False}, 'id': 15007}\n",
      "{'jsonrpc': '2.0', 'result': {'content': [], 'has_next': False}, 'id': 15008}\n",
      "{'jsonrpc': '2.0', 'result': {'content': [{'block_number': 2652, 'data': '0x2c2c2c516d624256767944396453537332397036324a454a516f6f455243676244354e4d3650655a6b5241516756654847', 'index': 1, 'msa_id': 1, 'signer': '5FHneW46xGXgs5mUiveU4sbTyGBzmstUspZC92UhjJM694ty'}, {'block_number': 2652, 'data': '0x2c2c516d624256767944396453537332397036324a454a516f6f455243676244354e4d3650655a6b52415167566548472c343338383330', 'index': 2, 'msa_id': 1, 'signer': '5FHneW46xGXgs5mUiveU4sbTyGBzmstUspZC92UhjJM694ty'}, {'block_number': 2652, 'data': '0x2c2c516d624256767944396453537332397036324a454a516f6f455243676244354e4d3650655a6b52415167566548472c2d30', 'index': 3, 'msa_id': 1, 'signer': '5FHneW46xGXgs5mUiveU4sbTyGBzmstUspZC92UhjJM694ty'}, {'block_number': 2658, 'data': '0x2c2c2c516d624256767944396453537332397036324a454a516f6f455243676244354e4d3650655a6b5241516756654847', 'index': 1, 'msa_id': 1, 'signer': '5FHneW46xGXgs5mUiveU4sbTyGBzmstUspZC92UhjJM694ty'}, {'block_number': 2658, 'data': '0x2c2c516d624256767944396453537332397036324a454a516f6f455243676244354e4d3650655a6b52415167566548472c343338383239', 'index': 2, 'msa_id': 1, 'signer': '5FHneW46xGXgs5mUiveU4sbTyGBzmstUspZC92UhjJM694ty'}, {'block_number': 2658, 'data': '0x2c2c516d624256767944396453537332397036324a454a516f6f455243676244354e4d3650655a6b52415167566548472c2d30', 'index': 3, 'msa_id': 1, 'signer': '5FHneW46xGXgs5mUiveU4sbTyGBzmstUspZC92UhjJM694ty'}, {'block_number': 2659, 'data': '0x2c2c516d624256767944396453537332397036324a454a516f6f455243676244354e4d3650655a6b52415167566548472c516d57504b5a4b595646636d6b50565637735071367a646555456b787a516e384d6f45736948476f546747356d61', 'index': 1, 'msa_id': 1, 'signer': '5FHneW46xGXgs5mUiveU4sbTyGBzmstUspZC92UhjJM694ty'}, {'block_number': 2659, 'data': '0x2c2c516d624256767944396453537332397036324a454a516f6f455243676244354e4d3650655a6b52415167566548472c31', 'index': 2, 'msa_id': 1, 'signer': '5FHneW46xGXgs5mUiveU4sbTyGBzmstUspZC92UhjJM694ty'}, {'block_number': 2659, 'data': '0x2c2c516d624256767944396453537332397036324a454a516f6f455243676244354e4d3650655a6b52415167566548472c2d30', 'index': 3, 'msa_id': 1, 'signer': '5FHneW46xGXgs5mUiveU4sbTyGBzmstUspZC92UhjJM694ty'}, {'block_number': 2660, 'data': '0x2c2c516d624256767944396453537332397036324a454a516f6f455243676244354e4d3650655a6b52415167566548472c516d5a65314641424c6e346d3851315834557965523534525439327a69696d394d58736b6936456f4855434b6263', 'index': 1, 'msa_id': 1, 'signer': '5FHneW46xGXgs5mUiveU4sbTyGBzmstUspZC92UhjJM694ty'}, {'block_number': 2660, 'data': '0x2c2c516d624256767944396453537332397036324a454a516f6f455243676244354e4d3650655a6b52415167566548472c37333936', 'index': 2, 'msa_id': 1, 'signer': '5FHneW46xGXgs5mUiveU4sbTyGBzmstUspZC92UhjJM694ty'}, {'block_number': 2660, 'data': '0x2c2c516d624256767944396453537332397036324a454a516f6f455243676244354e4d3650655a6b52415167566548472c2d30', 'index': 3, 'msa_id': 1, 'signer': '5FHneW46xGXgs5mUiveU4sbTyGBzmstUspZC92UhjJM694ty'}, {'block_number': 2661, 'data': '0x2c2c516d624256767944396453537332397036324a454a516f6f455243676244354e4d3650655a6b52415167566548472c516d626d4137656a524e7857457662506635337575715a47423334486e716f356761353542474a6b4a47466b7637', 'index': 1, 'msa_id': 1, 'signer': '5FHneW46xGXgs5mUiveU4sbTyGBzmstUspZC92UhjJM694ty'}, {'block_number': 2661, 'data': '0x2c2c516d624256767944396453537332397036324a454a516f6f455243676244354e4d3650655a6b52415167566548472c3230333332', 'index': 2, 'msa_id': 1, 'signer': '5FHneW46xGXgs5mUiveU4sbTyGBzmstUspZC92UhjJM694ty'}, {'block_number': 2661, 'data': '0x2c2c516d624256767944396453537332397036324a454a516f6f455243676244354e4d3650655a6b52415167566548472c2d30', 'index': 3, 'msa_id': 1, 'signer': '5FHneW46xGXgs5mUiveU4sbTyGBzmstUspZC92UhjJM694ty'}, {'block_number': 2662, 'data': '0x2c2c516d624256767944396453537332397036324a454a516f6f455243676244354e4d3650655a6b52415167566548472c516d615934764135464e687737526567763252737a4e35464a6f5a445a52504c7a7450327143696a454c4a66547a', 'index': 1, 'msa_id': 1, 'signer': '5FHneW46xGXgs5mUiveU4sbTyGBzmstUspZC92UhjJM694ty'}, {'block_number': 2662, 'data': '0x2c2c516d624256767944396453537332397036324a454a516f6f455243676244354e4d3650655a6b52415167566548472c35343238', 'index': 2, 'msa_id': 1, 'signer': '5FHneW46xGXgs5mUiveU4sbTyGBzmstUspZC92UhjJM694ty'}, {'block_number': 2662, 'data': '0x2c2c516d624256767944396453537332397036324a454a516f6f455243676244354e4d3650655a6b52415167566548472c2d30', 'index': 3, 'msa_id': 1, 'signer': '5FHneW46xGXgs5mUiveU4sbTyGBzmstUspZC92UhjJM694ty'}, {'block_number': 2663, 'data': '0x2c2c516d624256767944396453537332397036324a454a516f6f455243676244354e4d3650655a6b52415167566548472c516d5952693351544c5241356e6d6278754a665a356957355951667743595247394b427066674573776256395869', 'index': 1, 'msa_id': 1, 'signer': '5FHneW46xGXgs5mUiveU4sbTyGBzmstUspZC92UhjJM694ty'}, {'block_number': 2663, 'data': '0x2c2c516d624256767944396453537332397036324a454a516f6f455243676244354e4d3650655a6b52415167566548472c34373937', 'index': 2, 'msa_id': 1, 'signer': '5FHneW46xGXgs5mUiveU4sbTyGBzmstUspZC92UhjJM694ty'}, {'block_number': 2663, 'data': '0x2c2c516d624256767944396453537332397036324a454a516f6f455243676244354e4d3650655a6b52415167566548472c2d30', 'index': 3, 'msa_id': 1, 'signer': '5FHneW46xGXgs5mUiveU4sbTyGBzmstUspZC92UhjJM694ty'}, {'block_number': 2664, 'data': '0x2c2c516d624256767944396453537332397036324a454a516f6f455243676244354e4d3650655a6b52415167566548472c516d4e5163314e664563467a776a62654e4a346f72365966567151324c486453475a756950763256575863767044', 'index': 1, 'msa_id': 1, 'signer': '5FHneW46xGXgs5mUiveU4sbTyGBzmstUspZC92UhjJM694ty'}, {'block_number': 2664, 'data': '0x2c2c516d624256767944396453537332397036324a454a516f6f455243676244354e4d3650655a6b52415167566548472c35383037', 'index': 2, 'msa_id': 1, 'signer': '5FHneW46xGXgs5mUiveU4sbTyGBzmstUspZC92UhjJM694ty'}, {'block_number': 2664, 'data': '0x2c2c516d624256767944396453537332397036324a454a516f6f455243676244354e4d3650655a6b52415167566548472c2d30', 'index': 3, 'msa_id': 1, 'signer': '5FHneW46xGXgs5mUiveU4sbTyGBzmstUspZC92UhjJM694ty'}, {'block_number': 2665, 'data': '0x2c2c516d624256767944396453537332397036324a454a516f6f455243676244354e4d3650655a6b52415167566548472c516d644258337370726938366956516962793452317a55654172484564516e37774e71523348374c747143484753', 'index': 1, 'msa_id': 1, 'signer': '5FHneW46xGXgs5mUiveU4sbTyGBzmstUspZC92UhjJM694ty'}, {'block_number': 2665, 'data': '0x2c2c516d624256767944396453537332397036324a454a516f6f455243676244354e4d3650655a6b52415167566548472c3131393539', 'index': 2, 'msa_id': 1, 'signer': '5FHneW46xGXgs5mUiveU4sbTyGBzmstUspZC92UhjJM694ty'}, {'block_number': 2665, 'data': '0x2c2c516d624256767944396453537332397036324a454a516f6f455243676244354e4d3650655a6b52415167566548472c2d30', 'index': 3, 'msa_id': 1, 'signer': '5FHneW46xGXgs5mUiveU4sbTyGBzmstUspZC92UhjJM694ty'}, {'block_number': 2665, 'data': '0x2c2c516d624256767944396453537332397036324a454a516f6f455243676244354e4d3650655a6b52415167566548472c516d62626e6273644e614e354756576a54475a516562675452314347566f6174656d4e6a6454324539354c683468', 'index': 4, 'msa_id': 1, 'signer': '5FHneW46xGXgs5mUiveU4sbTyGBzmstUspZC92UhjJM694ty'}, {'block_number': 2665, 'data': '0x2c2c516d624256767944396453537332397036324a454a516f6f455243676244354e4d3650655a6b52415167566548472c3337313537', 'index': 5, 'msa_id': 1, 'signer': '5FHneW46xGXgs5mUiveU4sbTyGBzmstUspZC92UhjJM694ty'}, {'block_number': 2665, 'data': '0x2c2c516d624256767944396453537332397036324a454a516f6f455243676244354e4d3650655a6b52415167566548472c2d30', 'index': 6, 'msa_id': 1, 'signer': '5FHneW46xGXgs5mUiveU4sbTyGBzmstUspZC92UhjJM694ty'}, {'block_number': 2665, 'data': '0x2c2c516d624256767944396453537332397036324a454a516f6f455243676244354e4d3650655a6b52415167566548472c516d524156695631356734674171703757434235563753734548355176585a7477534a6a766b4e33424d7671356b', 'index': 7, 'msa_id': 1, 'signer': '5FHneW46xGXgs5mUiveU4sbTyGBzmstUspZC92UhjJM694ty'}, {'block_number': 2665, 'data': '0x2c2c516d624256767944396453537332397036324a454a516f6f455243676244354e4d3650655a6b52415167566548472c373636', 'index': 8, 'msa_id': 1, 'signer': '5FHneW46xGXgs5mUiveU4sbTyGBzmstUspZC92UhjJM694ty'}, {'block_number': 2665, 'data': '0x2c2c516d624256767944396453537332397036324a454a516f6f455243676244354e4d3650655a6b52415167566548472c2d30', 'index': 9, 'msa_id': 1, 'signer': '5FHneW46xGXgs5mUiveU4sbTyGBzmstUspZC92UhjJM694ty'}, {'block_number': 2666, 'data': '0x2c2c516d624256767944396453537332397036324a454a516f6f455243676244354e4d3650655a6b52415167566548472c516d5a3836766f634a4168744556394c43724d446968444d446237525132734465535a4a41547a68444e3557397a', 'index': 1, 'msa_id': 1, 'signer': '5FHneW46xGXgs5mUiveU4sbTyGBzmstUspZC92UhjJM694ty'}, {'block_number': 2666, 'data': '0x2c2c516d624256767944396453537332397036324a454a516f6f455243676244354e4d3650655a6b52415167566548472c3230383238', 'index': 2, 'msa_id': 1, 'signer': '5FHneW46xGXgs5mUiveU4sbTyGBzmstUspZC92UhjJM694ty'}, {'block_number': 2666, 'data': '0x2c2c516d624256767944396453537332397036324a454a516f6f455243676244354e4d3650655a6b52415167566548472c2d30', 'index': 3, 'msa_id': 1, 'signer': '5FHneW46xGXgs5mUiveU4sbTyGBzmstUspZC92UhjJM694ty'}], 'has_next': False}, 'id': 15009}\n"
     ]
    },
    {
     "name": "stdout",
     "output_type": "stream",
     "text": [
      "{'jsonrpc': '2.0', 'result': {'content': [], 'has_next': False}, 'id': 15010}\n"
     ]
    }
   ],
   "source": [
    "for schemaId in post_schemas:\n",
    "    params = [\n",
    "        schemaId,\n",
    "        {\n",
    "            \"page_size\": 10000,\n",
    "            \"from_block\": 0,\n",
    "            \"to_block\": 10000,\n",
    "            \"from_index\": 0,\n",
    "        }\n",
    "    ]\n",
    "\n",
    "    data = substrate.rpc_request(\n",
    "        method='messages_getBySchema',\n",
    "        params=params,\n",
    "    )\n",
    "    print(data)"
   ]
  },
  {
   "cell_type": "code",
   "execution_count": 139,
   "id": "79fbbedf",
   "metadata": {},
   "outputs": [
    {
     "data": {
      "text/plain": [
       "{'jsonrpc': '2.0', 'result': {'content': [], 'has_next': False}, 'id': 13663}"
      ]
     },
     "execution_count": 139,
     "metadata": {},
     "output_type": "execute_result"
    }
   ],
   "source": [
    "data"
   ]
  },
  {
   "cell_type": "code",
   "execution_count": null,
   "id": "535f5e4a",
   "metadata": {},
   "outputs": [],
   "source": []
  }
 ],
 "metadata": {
  "kernelspec": {
   "display_name": "Python 3 (ipykernel)",
   "language": "python",
   "name": "python3"
  },
  "language_info": {
   "codemirror_mode": {
    "name": "ipython",
    "version": 3
   },
   "file_extension": ".py",
   "mimetype": "text/x-python",
   "name": "python",
   "nbconvert_exporter": "python",
   "pygments_lexer": "ipython3",
   "version": "3.8.5"
  }
 },
 "nbformat": 4,
 "nbformat_minor": 5
}
